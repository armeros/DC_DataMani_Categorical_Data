{
  "nbformat": 4,
  "nbformat_minor": 0,
  "metadata": {
    "colab": {
      "name": "Categorical_Data",
      "provenance": [],
      "collapsed_sections": []
    },
    "kernelspec": {
      "name": "python3",
      "display_name": "Python 3"
    },
    "language_info": {
      "name": "python"
    }
  },
  "cells": [
    {
      "cell_type": "markdown",
      "source": [
        "# ***`.describe()`, `.value_counts()`, `.value_counts(normalize=True)`, `.value_counts(dropna=False)`***"
      ],
      "metadata": {
        "id": "Ld4d7dtk6p8w"
      }
    },
    {
      "cell_type": "code",
      "execution_count": 51,
      "metadata": {
        "colab": {
          "base_uri": "https://localhost:8080/"
        },
        "id": "NNun_xFG3olC",
        "outputId": "2bdbc931-7781-4809-e81f-fbbe749053cb"
      },
      "outputs": [
        {
          "output_type": "stream",
          "name": "stdout",
          "text": [
            "count                   32561\n",
            "unique                      7\n",
            "top        Married-civ-spouse\n",
            "freq                    14976\n",
            "Name: Marital Status, dtype: object \n",
            "\n",
            "\n",
            " Married-civ-spouse       14976\n",
            " Never-married            10683\n",
            " Divorced                  4443\n",
            " Separated                 1025\n",
            " Widowed                    993\n",
            " Married-spouse-absent      418\n",
            " Married-AF-spouse           23\n",
            "Name: Marital Status, dtype: int64 \n",
            "\n",
            "\n",
            " Married-civ-spouse      0.460\n",
            " Never-married           0.328\n",
            " Divorced                0.136\n",
            " Separated               0.031\n",
            " Widowed                 0.030\n",
            " Married-spouse-absent   0.013\n",
            " Married-AF-spouse       0.001\n",
            "Name: Marital Status, dtype: float64 \n",
            "\n",
            "\n"
          ]
        }
      ],
      "source": [
        "import pandas as pd\n",
        "\n",
        "adult = pd.read_csv('adult.csv')\n",
        "print(adult['Marital Status'].describe(), \"\\n\\n\")\n",
        "print(adult['Marital Status'].value_counts(), \"\\n\\n\")\n",
        "print(adult['Marital Status'].value_counts(normalize=True), \"\\n\\n\")"
      ]
    },
    {
      "cell_type": "markdown",
      "source": [
        "### ***Exploring a target variable***\n",
        "\n",
        "You have been asked to build a machine learning model to predict whether or not a person makes over $50,000 in a year. To understand the target variable, `Above/Below 50k`, you decide to explore the variable in more detail.\n",
        "\n",
        "* Explore the `Above/Below 50k` variable by printing out a description of the variable's contents.\n",
        "* Explore the `Above/Below 50k` variable by printing out a frequency table of the values found in this column.\n",
        "* Rerun **`.value_counts()`**, but this time print out the relative frequency values instead of the counts."
      ],
      "metadata": {
        "id": "ze0gWoZ466RL"
      }
    },
    {
      "cell_type": "code",
      "source": [
        "import pandas as pd\n",
        "\n",
        "adult = pd.read_csv('adult.csv')\n",
        "\n",
        "# Explore the Above/Below 50k variable\n",
        "print(adult[\"Above/Below 50k\"].describe(),\"\\n\")\n",
        "\n",
        "# Print a frequency table of \"Above/Below 50k\"\n",
        "print(adult[\"Above/Below 50k\"].value_counts(),\"\\n\")\n",
        "\n",
        "# Print relative frequency values\n",
        "print(adult[\"Above/Below 50k\"].value_counts(normalize=True),\"\\n\")"
      ],
      "metadata": {
        "colab": {
          "base_uri": "https://localhost:8080/"
        },
        "id": "HmaKEyNo5cPP",
        "outputId": "33825a3d-88e7-4d01-d82d-32c99945ec8f"
      },
      "execution_count": 9,
      "outputs": [
        {
          "output_type": "stream",
          "name": "stdout",
          "text": [
            "count      32561\n",
            "unique         2\n",
            "top        <=50K\n",
            "freq       24720\n",
            "Name: Above/Below 50k, dtype: object \n",
            "\n",
            " <=50K    24720\n",
            " >50K      7841\n",
            "Name: Above/Below 50k, dtype: int64 \n",
            "\n",
            " <=50K    0.75919\n",
            " >50K     0.24081\n",
            "Name: Above/Below 50k, dtype: float64 \n",
            "\n"
          ]
        }
      ]
    },
    {
      "cell_type": "markdown",
      "source": [
        "# ***Creating a categorical Series***"
      ],
      "metadata": {
        "id": "Q3m-gKPl9CIq"
      }
    },
    {
      "cell_type": "code",
      "source": [
        "my_data = [\"A\", \"A\", \"C\", \"B\", \"C\", \"A\"]\n",
        "my_series1 = pd.Series(my_data, dtype=\"category\")\n",
        "print(my_series1)"
      ],
      "metadata": {
        "colab": {
          "base_uri": "https://localhost:8080/"
        },
        "id": "Qjew48VR79b3",
        "outputId": "196a6771-0615-4231-825e-ae91cf290dbf"
      },
      "execution_count": 10,
      "outputs": [
        {
          "output_type": "stream",
          "name": "stdout",
          "text": [
            "0    A\n",
            "1    A\n",
            "2    C\n",
            "3    B\n",
            "4    C\n",
            "5    A\n",
            "dtype: category\n",
            "Categories (3, object): ['A', 'B', 'C']\n"
          ]
        }
      ]
    },
    {
      "cell_type": "markdown",
      "source": [
        "# ***Creating a categorical Series with Order***"
      ],
      "metadata": {
        "id": "pTeHXHzc9S6J"
      }
    },
    {
      "cell_type": "code",
      "source": [
        "my_data = [\"A\", \"A\", \"C\", \"B\", \"C\", \"A\"]\n",
        "my_series2 = pd.Categorical(my_data, categories=[\"C\", \"B\", \"A\"], ordered=True)\n",
        "my_series2"
      ],
      "metadata": {
        "colab": {
          "base_uri": "https://localhost:8080/"
        },
        "id": "buwxCtYD9JRC",
        "outputId": "e71af7a7-71ac-4196-ec6f-32224ccdff42"
      },
      "execution_count": 11,
      "outputs": [
        {
          "output_type": "execute_result",
          "data": {
            "text/plain": [
              "['A', 'A', 'C', 'B', 'C', 'A']\n",
              "Categories (3, object): ['C' < 'B' < 'A']"
            ]
          },
          "metadata": {},
          "execution_count": 11
        }
      ]
    },
    {
      "cell_type": "markdown",
      "source": [
        "# ***Specify dtypes when reading data***\n"
      ],
      "metadata": {
        "id": "fzsgCRZg99g4"
      }
    },
    {
      "cell_type": "code",
      "source": [
        "import pandas as pd\n",
        "\n",
        "adult = pd.read_csv(\"adult.csv\", dtype={\"Marital Status\": \"category\"})\n",
        "adult[\"Marital Status\"].dtype"
      ],
      "metadata": {
        "colab": {
          "base_uri": "https://localhost:8080/"
        },
        "id": "uR0eJTDx9NP7",
        "outputId": "98a185e1-5b2e-4c17-e54a-520dbe73b489"
      },
      "execution_count": 12,
      "outputs": [
        {
          "output_type": "execute_result",
          "data": {
            "text/plain": [
              "CategoricalDtype(categories=[' Divorced', ' Married-AF-spouse', ' Married-civ-spouse',\n",
              "                  ' Married-spouse-absent', ' Never-married', ' Separated',\n",
              "                  ' Widowed'],\n",
              ", ordered=False)"
            ]
          },
          "metadata": {},
          "execution_count": 12
        }
      ]
    },
    {
      "cell_type": "markdown",
      "source": [
        "### ***Setting dtypes and saving memory***\n",
        "\n",
        "A colleague of yours is exploring a list of occupations and how they relate to salary. She has given you a list of these occupations, `list_of_occupations`, and has a few simple questions such as \"How many different titles are there?\" and \"Which position is the most common?\".\n",
        "\n",
        "* Create a pandas Series, `series1`, using the `list_of_occupations` (do not set the dtype).\n",
        "* Print both the data type and number of bytes used of this new Series.\n",
        "* Create a second pandas Series, `series2`, using the `list_of_occupations` and set the `dtype` to `\"category\"`.\n",
        "* Print both the data type and number of bytes used of this new Series."
      ],
      "metadata": {
        "id": "Rt894M00-Zkf"
      }
    },
    {
      "cell_type": "code",
      "source": [
        "list_of_occupations = ['Data Scientist', 'Data Analyst', 'Data Scientist', 'Statistician', 'Data Scientist', 'Data Scientist', 'Statistician', 'Data Scientist', 'Data Analyst', 'Data Analyst', 'Data Scientist', 'Data Scientist', 'Data Scientist', 'Data Scientist', 'Data Scientist', 'Data Analyst', 'Data Scientist', 'Data Scientist', 'Data Analyst', 'Data Scientist']\n",
        "\n",
        "# Create a Series, default dtype\n",
        "series1 = pd.Series(list_of_occupations)\n",
        "\n",
        "# Print out the data type and number of bytes for series1\n",
        "print(\"series1 data type:\", series1.dtype)\n",
        "print(\"series1 number of bytes:\", series1.nbytes)\n",
        "\n",
        "# Create a Series, \"category\" dtype\n",
        "series2 = pd.Series(list_of_occupations, dtype=\"category\")\n",
        "\n",
        "# Print out the data type and number of bytes for series2\n",
        "print(\"series2 data type:\", series2.dtype)\n",
        "print(\"series2 number of bytes:\", series2.nbytes)"
      ],
      "metadata": {
        "colab": {
          "base_uri": "https://localhost:8080/"
        },
        "id": "b6STIeHs-WeV",
        "outputId": "a3e5aec6-57b8-45a5-a815-642c5b0fb17e"
      },
      "execution_count": 13,
      "outputs": [
        {
          "output_type": "stream",
          "name": "stdout",
          "text": [
            "series1 data type: object\n",
            "series1 number of bytes: 160\n",
            "series2 data type: category\n",
            "series2 number of bytes: 44\n"
          ]
        }
      ]
    },
    {
      "cell_type": "markdown",
      "source": [
        "### ***Creating a categorical pandas Series***\n",
        "\n",
        "Another colleague at work has collected information on the number of `\"Gold\"`, `\"Silver\"`, and `\"Bronze\"` medals won by the USA at the Summer & Winter Olympics since 1896. She has provided this as a list, `medals_won`. Before taking a look at the total number of each medal won, you want to create a categorical pandas Series. However, you know that these medals have a specific order to them and that `Gold` is better than `Silver`, but `Silver` is better than `Bronze`. Use the object, `medals_won`, to help\n",
        "\n",
        "* Create a categorical pandas Series without using **`pd.Series()`**.\n",
        "* Specify the three known medal categories such that `\"Bronze\"` < `\"Silver\"` < `\"Gold\"`.\n",
        "* Specify that the order of the categories is important when creating this Series."
      ],
      "metadata": {
        "id": "vRLDnQ0k_4_W"
      }
    },
    {
      "cell_type": "code",
      "source": [
        "medals_won = ['Silver', 'Silver', 'Bronze', 'Silver', 'Gold', 'Silver', 'Silver', 'Gold', 'Gold', 'Bronze', 'Bronze','Gold', 'Silver', 'Silver', 'Silver', 'Gold', 'Gold', 'Bronze', 'Silver', 'Gold']\n",
        "\n",
        "# Create a categorical Series and specify the categories (let pandas know the order matters!)\n",
        "medals = pd.Categorical(medals_won, categories=['Bronze', 'Silver', 'Gold'], ordered=True)\n",
        "print(medals)"
      ],
      "metadata": {
        "colab": {
          "base_uri": "https://localhost:8080/"
        },
        "id": "dDgNgEON_05o",
        "outputId": "b4e934f1-bce2-4cc3-e98e-a5167cfffb76"
      },
      "execution_count": 14,
      "outputs": [
        {
          "output_type": "stream",
          "name": "stdout",
          "text": [
            "['Silver', 'Silver', 'Bronze', 'Silver', 'Gold', ..., 'Gold', 'Gold', 'Bronze', 'Silver', 'Gold']\n",
            "Length: 20\n",
            "Categories (3, object): ['Bronze' < 'Silver' < 'Gold']\n"
          ]
        }
      ]
    },
    {
      "cell_type": "markdown",
      "source": [
        "### ***Setting dtype when reading data***\n",
        "\n",
        "You are preparing to create a machine learning model to predict a person's income category using the `adult` census income dataset. You don't have access to any cloud resources and you want to make sure that your laptop will be able to load the full dataset and process its contents.\n",
        "\n",
        "* Call the correct attribute on the `adult` DataFrame to review the data types.\n",
        "* Create a dictionary with keys: `\"Workclass\"`, `\"Education\"`, `\"Relationship\"`, and `\"Above/Below 50k\"`.\n",
        "* Set the value for each key to be `\"category\"`.\n",
        "* Use the newly created dictionary, `adult_dtypes`, when reading in `adult.csv`"
      ],
      "metadata": {
        "id": "EsopqZJWA9Oi"
      }
    },
    {
      "cell_type": "code",
      "source": [
        "import pandas as pd\n",
        "\n",
        "adult = pd.read_csv(\"adult.csv\")\n",
        "\n",
        "# Check the dtypes\n",
        "print(adult.dtypes, \"\\n\")\n",
        "\n",
        "# Create a dictionary with column names as keys and \"category\" as values\n",
        "adult_dtypes = {\"Marital Status\": \"category\", \"Workclass\": \"category\", \"Education\": \"category\", \"Relationship\": \"category\", \"Above/Below 50k\": \"category\"}\n",
        "\n",
        "# Read in the CSV using the dtypes parameter\n",
        "adult2 = pd.read_csv(\"adult.csv\", dtype=adult_dtypes)\n",
        "print(adult2.dtypes)"
      ],
      "metadata": {
        "colab": {
          "base_uri": "https://localhost:8080/"
        },
        "id": "G71WgX4NA2hw",
        "outputId": "4ddcfbd1-69be-4af8-c9f0-df21437101bd"
      },
      "execution_count": 17,
      "outputs": [
        {
          "output_type": "stream",
          "name": "stdout",
          "text": [
            "Age                 int64\n",
            "Workclass          object\n",
            "fnlgwt              int64\n",
            "Education          object\n",
            "Education Num       int64\n",
            "Marital Status     object\n",
            "Occupation         object\n",
            "Relationship       object\n",
            "Race               object\n",
            "Sex                object\n",
            "Capital Gain        int64\n",
            "Capital Loss        int64\n",
            "Hours/Week          int64\n",
            "Country            object\n",
            "Above/Below 50k    object\n",
            "dtype: object \n",
            "\n",
            "Age                   int64\n",
            "Workclass          category\n",
            "fnlgwt                int64\n",
            "Education          category\n",
            "Education Num         int64\n",
            "Marital Status     category\n",
            "Occupation           object\n",
            "Relationship       category\n",
            "Race                 object\n",
            "Sex                  object\n",
            "Capital Gain          int64\n",
            "Capital Loss          int64\n",
            "Hours/Week            int64\n",
            "Country              object\n",
            "Above/Below 50k    category\n",
            "dtype: object\n"
          ]
        }
      ]
    },
    {
      "cell_type": "markdown",
      "source": [
        "Specifying the `dtypes` will lower the amount of memory required to load your dataset."
      ],
      "metadata": {
        "id": "vv_1HL8tCqHZ"
      }
    },
    {
      "cell_type": "markdown",
      "source": [
        "# ***`.groupby()` categorical data***\n",
        "\n",
        "## *Equivalent to boolean subsetting*"
      ],
      "metadata": {
        "id": "82GG7-kuHcTv"
      }
    },
    {
      "cell_type": "code",
      "source": [
        "import pandas as pd\n",
        "\n",
        "adult = pd.read_csv(\"adult.csv\", dtype={\"Marital Status\": \"category\", \"Workclass\": \"category\", \"Education\": \"category\", \"Relationship\": \"category\", \"Above/Below 50k\": \"category\"})\n",
        "\n",
        "adult.groupby(by=[\"Above/Below 50k\"]).get_group(' <=50K').equals(adult[adult[\"Above/Below 50k\"] == \" <=50K\"])"
      ],
      "metadata": {
        "colab": {
          "base_uri": "https://localhost:8080/"
        },
        "id": "4zxaMlfxBY4P",
        "outputId": "deaf02b0-9a65-43db-d3f2-28d014313369"
      },
      "execution_count": 24,
      "outputs": [
        {
          "output_type": "execute_result",
          "data": {
            "text/plain": [
              "True"
            ]
          },
          "metadata": {},
          "execution_count": 24
        }
      ]
    },
    {
      "cell_type": "code",
      "source": [
        "adult.groupby(by=[\"Above/Below 50k\"]).get_group(' >50K').equals(adult[adult[\"Above/Below 50k\"] == \" >50K\"])"
      ],
      "metadata": {
        "colab": {
          "base_uri": "https://localhost:8080/"
        },
        "id": "Qs0jm4eNH6Ce",
        "outputId": "82a80912-a62b-4dd6-f894-11de17f3b0c1"
      },
      "execution_count": 25,
      "outputs": [
        {
          "output_type": "execute_result",
          "data": {
            "text/plain": [
              "True"
            ]
          },
          "metadata": {},
          "execution_count": 25
        }
      ]
    },
    {
      "cell_type": "code",
      "source": [
        "adult.groupby(by=[\"Above/Below 50k\"])[['Age', 'Education Num']].sum()"
      ],
      "metadata": {
        "colab": {
          "base_uri": "https://localhost:8080/",
          "height": 144
        },
        "id": "O2u3U8KyIGH3",
        "outputId": "b47c72ae-4903-488e-84f4-f45e2af34c45"
      },
      "execution_count": 29,
      "outputs": [
        {
          "output_type": "execute_result",
          "data": {
            "text/html": [
              "\n",
              "  <div id=\"df-ba136d71-2efa-4882-a308-29426db01f1a\">\n",
              "    <div class=\"colab-df-container\">\n",
              "      <div>\n",
              "<style scoped>\n",
              "    .dataframe tbody tr th:only-of-type {\n",
              "        vertical-align: middle;\n",
              "    }\n",
              "\n",
              "    .dataframe tbody tr th {\n",
              "        vertical-align: top;\n",
              "    }\n",
              "\n",
              "    .dataframe thead th {\n",
              "        text-align: right;\n",
              "    }\n",
              "</style>\n",
              "<table border=\"1\" class=\"dataframe\">\n",
              "  <thead>\n",
              "    <tr style=\"text-align: right;\">\n",
              "      <th></th>\n",
              "      <th>Age</th>\n",
              "      <th>Education Num</th>\n",
              "    </tr>\n",
              "    <tr>\n",
              "      <th>Above/Below 50k</th>\n",
              "      <th></th>\n",
              "      <th></th>\n",
              "    </tr>\n",
              "  </thead>\n",
              "  <tbody>\n",
              "    <tr>\n",
              "      <th>&lt;=50K</th>\n",
              "      <td>909294</td>\n",
              "      <td>237190</td>\n",
              "    </tr>\n",
              "    <tr>\n",
              "      <th>&gt;50K</th>\n",
              "      <td>346963</td>\n",
              "      <td>91047</td>\n",
              "    </tr>\n",
              "  </tbody>\n",
              "</table>\n",
              "</div>\n",
              "      <button class=\"colab-df-convert\" onclick=\"convertToInteractive('df-ba136d71-2efa-4882-a308-29426db01f1a')\"\n",
              "              title=\"Convert this dataframe to an interactive table.\"\n",
              "              style=\"display:none;\">\n",
              "        \n",
              "  <svg xmlns=\"http://www.w3.org/2000/svg\" height=\"24px\"viewBox=\"0 0 24 24\"\n",
              "       width=\"24px\">\n",
              "    <path d=\"M0 0h24v24H0V0z\" fill=\"none\"/>\n",
              "    <path d=\"M18.56 5.44l.94 2.06.94-2.06 2.06-.94-2.06-.94-.94-2.06-.94 2.06-2.06.94zm-11 1L8.5 8.5l.94-2.06 2.06-.94-2.06-.94L8.5 2.5l-.94 2.06-2.06.94zm10 10l.94 2.06.94-2.06 2.06-.94-2.06-.94-.94-2.06-.94 2.06-2.06.94z\"/><path d=\"M17.41 7.96l-1.37-1.37c-.4-.4-.92-.59-1.43-.59-.52 0-1.04.2-1.43.59L10.3 9.45l-7.72 7.72c-.78.78-.78 2.05 0 2.83L4 21.41c.39.39.9.59 1.41.59.51 0 1.02-.2 1.41-.59l7.78-7.78 2.81-2.81c.8-.78.8-2.07 0-2.86zM5.41 20L4 18.59l7.72-7.72 1.47 1.35L5.41 20z\"/>\n",
              "  </svg>\n",
              "      </button>\n",
              "      \n",
              "  <style>\n",
              "    .colab-df-container {\n",
              "      display:flex;\n",
              "      flex-wrap:wrap;\n",
              "      gap: 12px;\n",
              "    }\n",
              "\n",
              "    .colab-df-convert {\n",
              "      background-color: #E8F0FE;\n",
              "      border: none;\n",
              "      border-radius: 50%;\n",
              "      cursor: pointer;\n",
              "      display: none;\n",
              "      fill: #1967D2;\n",
              "      height: 32px;\n",
              "      padding: 0 0 0 0;\n",
              "      width: 32px;\n",
              "    }\n",
              "\n",
              "    .colab-df-convert:hover {\n",
              "      background-color: #E2EBFA;\n",
              "      box-shadow: 0px 1px 2px rgba(60, 64, 67, 0.3), 0px 1px 3px 1px rgba(60, 64, 67, 0.15);\n",
              "      fill: #174EA6;\n",
              "    }\n",
              "\n",
              "    [theme=dark] .colab-df-convert {\n",
              "      background-color: #3B4455;\n",
              "      fill: #D2E3FC;\n",
              "    }\n",
              "\n",
              "    [theme=dark] .colab-df-convert:hover {\n",
              "      background-color: #434B5C;\n",
              "      box-shadow: 0px 1px 3px 1px rgba(0, 0, 0, 0.15);\n",
              "      filter: drop-shadow(0px 1px 2px rgba(0, 0, 0, 0.3));\n",
              "      fill: #FFFFFF;\n",
              "    }\n",
              "  </style>\n",
              "\n",
              "      <script>\n",
              "        const buttonEl =\n",
              "          document.querySelector('#df-ba136d71-2efa-4882-a308-29426db01f1a button.colab-df-convert');\n",
              "        buttonEl.style.display =\n",
              "          google.colab.kernel.accessAllowed ? 'block' : 'none';\n",
              "\n",
              "        async function convertToInteractive(key) {\n",
              "          const element = document.querySelector('#df-ba136d71-2efa-4882-a308-29426db01f1a');\n",
              "          const dataTable =\n",
              "            await google.colab.kernel.invokeFunction('convertToInteractive',\n",
              "                                                     [key], {});\n",
              "          if (!dataTable) return;\n",
              "\n",
              "          const docLinkHtml = 'Like what you see? Visit the ' +\n",
              "            '<a target=\"_blank\" href=https://colab.research.google.com/notebooks/data_table.ipynb>data table notebook</a>'\n",
              "            + ' to learn more about interactive tables.';\n",
              "          element.innerHTML = '';\n",
              "          dataTable['output_type'] = 'display_data';\n",
              "          await google.colab.output.renderOutput(dataTable, element);\n",
              "          const docLink = document.createElement('div');\n",
              "          docLink.innerHTML = docLinkHtml;\n",
              "          element.appendChild(docLink);\n",
              "        }\n",
              "      </script>\n",
              "    </div>\n",
              "  </div>\n",
              "  "
            ],
            "text/plain": [
              "                    Age  Education Num\n",
              "Above/Below 50k                       \n",
              " <=50K           909294         237190\n",
              " >50K            346963          91047"
            ]
          },
          "metadata": {},
          "execution_count": 29
        }
      ]
    },
    {
      "cell_type": "code",
      "source": [
        "adult.groupby(by=[\"Above/Below 50k\"])[['Age', 'Education Num']].count()"
      ],
      "metadata": {
        "colab": {
          "base_uri": "https://localhost:8080/",
          "height": 144
        },
        "id": "iTkm3VjKJJZe",
        "outputId": "1817f374-3c42-4244-8990-ea89a826349f"
      },
      "execution_count": 30,
      "outputs": [
        {
          "output_type": "execute_result",
          "data": {
            "text/html": [
              "\n",
              "  <div id=\"df-ac803c20-cf1b-4caf-a557-78410034132b\">\n",
              "    <div class=\"colab-df-container\">\n",
              "      <div>\n",
              "<style scoped>\n",
              "    .dataframe tbody tr th:only-of-type {\n",
              "        vertical-align: middle;\n",
              "    }\n",
              "\n",
              "    .dataframe tbody tr th {\n",
              "        vertical-align: top;\n",
              "    }\n",
              "\n",
              "    .dataframe thead th {\n",
              "        text-align: right;\n",
              "    }\n",
              "</style>\n",
              "<table border=\"1\" class=\"dataframe\">\n",
              "  <thead>\n",
              "    <tr style=\"text-align: right;\">\n",
              "      <th></th>\n",
              "      <th>Age</th>\n",
              "      <th>Education Num</th>\n",
              "    </tr>\n",
              "    <tr>\n",
              "      <th>Above/Below 50k</th>\n",
              "      <th></th>\n",
              "      <th></th>\n",
              "    </tr>\n",
              "  </thead>\n",
              "  <tbody>\n",
              "    <tr>\n",
              "      <th>&lt;=50K</th>\n",
              "      <td>24720</td>\n",
              "      <td>24720</td>\n",
              "    </tr>\n",
              "    <tr>\n",
              "      <th>&gt;50K</th>\n",
              "      <td>7841</td>\n",
              "      <td>7841</td>\n",
              "    </tr>\n",
              "  </tbody>\n",
              "</table>\n",
              "</div>\n",
              "      <button class=\"colab-df-convert\" onclick=\"convertToInteractive('df-ac803c20-cf1b-4caf-a557-78410034132b')\"\n",
              "              title=\"Convert this dataframe to an interactive table.\"\n",
              "              style=\"display:none;\">\n",
              "        \n",
              "  <svg xmlns=\"http://www.w3.org/2000/svg\" height=\"24px\"viewBox=\"0 0 24 24\"\n",
              "       width=\"24px\">\n",
              "    <path d=\"M0 0h24v24H0V0z\" fill=\"none\"/>\n",
              "    <path d=\"M18.56 5.44l.94 2.06.94-2.06 2.06-.94-2.06-.94-.94-2.06-.94 2.06-2.06.94zm-11 1L8.5 8.5l.94-2.06 2.06-.94-2.06-.94L8.5 2.5l-.94 2.06-2.06.94zm10 10l.94 2.06.94-2.06 2.06-.94-2.06-.94-.94-2.06-.94 2.06-2.06.94z\"/><path d=\"M17.41 7.96l-1.37-1.37c-.4-.4-.92-.59-1.43-.59-.52 0-1.04.2-1.43.59L10.3 9.45l-7.72 7.72c-.78.78-.78 2.05 0 2.83L4 21.41c.39.39.9.59 1.41.59.51 0 1.02-.2 1.41-.59l7.78-7.78 2.81-2.81c.8-.78.8-2.07 0-2.86zM5.41 20L4 18.59l7.72-7.72 1.47 1.35L5.41 20z\"/>\n",
              "  </svg>\n",
              "      </button>\n",
              "      \n",
              "  <style>\n",
              "    .colab-df-container {\n",
              "      display:flex;\n",
              "      flex-wrap:wrap;\n",
              "      gap: 12px;\n",
              "    }\n",
              "\n",
              "    .colab-df-convert {\n",
              "      background-color: #E8F0FE;\n",
              "      border: none;\n",
              "      border-radius: 50%;\n",
              "      cursor: pointer;\n",
              "      display: none;\n",
              "      fill: #1967D2;\n",
              "      height: 32px;\n",
              "      padding: 0 0 0 0;\n",
              "      width: 32px;\n",
              "    }\n",
              "\n",
              "    .colab-df-convert:hover {\n",
              "      background-color: #E2EBFA;\n",
              "      box-shadow: 0px 1px 2px rgba(60, 64, 67, 0.3), 0px 1px 3px 1px rgba(60, 64, 67, 0.15);\n",
              "      fill: #174EA6;\n",
              "    }\n",
              "\n",
              "    [theme=dark] .colab-df-convert {\n",
              "      background-color: #3B4455;\n",
              "      fill: #D2E3FC;\n",
              "    }\n",
              "\n",
              "    [theme=dark] .colab-df-convert:hover {\n",
              "      background-color: #434B5C;\n",
              "      box-shadow: 0px 1px 3px 1px rgba(0, 0, 0, 0.15);\n",
              "      filter: drop-shadow(0px 1px 2px rgba(0, 0, 0, 0.3));\n",
              "      fill: #FFFFFF;\n",
              "    }\n",
              "  </style>\n",
              "\n",
              "      <script>\n",
              "        const buttonEl =\n",
              "          document.querySelector('#df-ac803c20-cf1b-4caf-a557-78410034132b button.colab-df-convert');\n",
              "        buttonEl.style.display =\n",
              "          google.colab.kernel.accessAllowed ? 'block' : 'none';\n",
              "\n",
              "        async function convertToInteractive(key) {\n",
              "          const element = document.querySelector('#df-ac803c20-cf1b-4caf-a557-78410034132b');\n",
              "          const dataTable =\n",
              "            await google.colab.kernel.invokeFunction('convertToInteractive',\n",
              "                                                     [key], {});\n",
              "          if (!dataTable) return;\n",
              "\n",
              "          const docLinkHtml = 'Like what you see? Visit the ' +\n",
              "            '<a target=\"_blank\" href=https://colab.research.google.com/notebooks/data_table.ipynb>data table notebook</a>'\n",
              "            + ' to learn more about interactive tables.';\n",
              "          element.innerHTML = '';\n",
              "          dataTable['output_type'] = 'display_data';\n",
              "          await google.colab.output.renderOutput(dataTable, element);\n",
              "          const docLink = document.createElement('div');\n",
              "          docLink.innerHTML = docLinkHtml;\n",
              "          element.appendChild(docLink);\n",
              "        }\n",
              "      </script>\n",
              "    </div>\n",
              "  </div>\n",
              "  "
            ],
            "text/plain": [
              "                   Age  Education Num\n",
              "Above/Below 50k                      \n",
              " <=50K           24720          24720\n",
              " >50K             7841           7841"
            ]
          },
          "metadata": {},
          "execution_count": 30
        }
      ]
    },
    {
      "cell_type": "code",
      "source": [
        "adult.groupby(by=[\"Above/Below 50k\"])[['Age', 'Education Num']].size()"
      ],
      "metadata": {
        "colab": {
          "base_uri": "https://localhost:8080/"
        },
        "id": "Y8hIIlvoKgER",
        "outputId": "51c6cfc4-c834-46e0-f324-678a80eeb1e4"
      },
      "execution_count": 40,
      "outputs": [
        {
          "output_type": "execute_result",
          "data": {
            "text/plain": [
              "Above/Below 50k\n",
              " <=50K    24720\n",
              " >50K      7841\n",
              "dtype: int64"
            ]
          },
          "metadata": {},
          "execution_count": 40
        }
      ]
    },
    {
      "cell_type": "code",
      "source": [
        "adult.groupby(by=[\"Above/Below 50k\"])[['Age', 'Education Num']].nunique()"
      ],
      "metadata": {
        "colab": {
          "base_uri": "https://localhost:8080/",
          "height": 144
        },
        "id": "I1HSkRJaJWFR",
        "outputId": "2456f432-aa5b-43e6-adae-bbbbaaf58fe6"
      },
      "execution_count": 31,
      "outputs": [
        {
          "output_type": "execute_result",
          "data": {
            "text/html": [
              "\n",
              "  <div id=\"df-9f8a63c8-e6b9-47c8-9759-48772f740209\">\n",
              "    <div class=\"colab-df-container\">\n",
              "      <div>\n",
              "<style scoped>\n",
              "    .dataframe tbody tr th:only-of-type {\n",
              "        vertical-align: middle;\n",
              "    }\n",
              "\n",
              "    .dataframe tbody tr th {\n",
              "        vertical-align: top;\n",
              "    }\n",
              "\n",
              "    .dataframe thead th {\n",
              "        text-align: right;\n",
              "    }\n",
              "</style>\n",
              "<table border=\"1\" class=\"dataframe\">\n",
              "  <thead>\n",
              "    <tr style=\"text-align: right;\">\n",
              "      <th></th>\n",
              "      <th>Age</th>\n",
              "      <th>Education Num</th>\n",
              "    </tr>\n",
              "    <tr>\n",
              "      <th>Above/Below 50k</th>\n",
              "      <th></th>\n",
              "      <th></th>\n",
              "    </tr>\n",
              "  </thead>\n",
              "  <tbody>\n",
              "    <tr>\n",
              "      <th>&lt;=50K</th>\n",
              "      <td>73</td>\n",
              "      <td>16</td>\n",
              "    </tr>\n",
              "    <tr>\n",
              "      <th>&gt;50K</th>\n",
              "      <td>65</td>\n",
              "      <td>15</td>\n",
              "    </tr>\n",
              "  </tbody>\n",
              "</table>\n",
              "</div>\n",
              "      <button class=\"colab-df-convert\" onclick=\"convertToInteractive('df-9f8a63c8-e6b9-47c8-9759-48772f740209')\"\n",
              "              title=\"Convert this dataframe to an interactive table.\"\n",
              "              style=\"display:none;\">\n",
              "        \n",
              "  <svg xmlns=\"http://www.w3.org/2000/svg\" height=\"24px\"viewBox=\"0 0 24 24\"\n",
              "       width=\"24px\">\n",
              "    <path d=\"M0 0h24v24H0V0z\" fill=\"none\"/>\n",
              "    <path d=\"M18.56 5.44l.94 2.06.94-2.06 2.06-.94-2.06-.94-.94-2.06-.94 2.06-2.06.94zm-11 1L8.5 8.5l.94-2.06 2.06-.94-2.06-.94L8.5 2.5l-.94 2.06-2.06.94zm10 10l.94 2.06.94-2.06 2.06-.94-2.06-.94-.94-2.06-.94 2.06-2.06.94z\"/><path d=\"M17.41 7.96l-1.37-1.37c-.4-.4-.92-.59-1.43-.59-.52 0-1.04.2-1.43.59L10.3 9.45l-7.72 7.72c-.78.78-.78 2.05 0 2.83L4 21.41c.39.39.9.59 1.41.59.51 0 1.02-.2 1.41-.59l7.78-7.78 2.81-2.81c.8-.78.8-2.07 0-2.86zM5.41 20L4 18.59l7.72-7.72 1.47 1.35L5.41 20z\"/>\n",
              "  </svg>\n",
              "      </button>\n",
              "      \n",
              "  <style>\n",
              "    .colab-df-container {\n",
              "      display:flex;\n",
              "      flex-wrap:wrap;\n",
              "      gap: 12px;\n",
              "    }\n",
              "\n",
              "    .colab-df-convert {\n",
              "      background-color: #E8F0FE;\n",
              "      border: none;\n",
              "      border-radius: 50%;\n",
              "      cursor: pointer;\n",
              "      display: none;\n",
              "      fill: #1967D2;\n",
              "      height: 32px;\n",
              "      padding: 0 0 0 0;\n",
              "      width: 32px;\n",
              "    }\n",
              "\n",
              "    .colab-df-convert:hover {\n",
              "      background-color: #E2EBFA;\n",
              "      box-shadow: 0px 1px 2px rgba(60, 64, 67, 0.3), 0px 1px 3px 1px rgba(60, 64, 67, 0.15);\n",
              "      fill: #174EA6;\n",
              "    }\n",
              "\n",
              "    [theme=dark] .colab-df-convert {\n",
              "      background-color: #3B4455;\n",
              "      fill: #D2E3FC;\n",
              "    }\n",
              "\n",
              "    [theme=dark] .colab-df-convert:hover {\n",
              "      background-color: #434B5C;\n",
              "      box-shadow: 0px 1px 3px 1px rgba(0, 0, 0, 0.15);\n",
              "      filter: drop-shadow(0px 1px 2px rgba(0, 0, 0, 0.3));\n",
              "      fill: #FFFFFF;\n",
              "    }\n",
              "  </style>\n",
              "\n",
              "      <script>\n",
              "        const buttonEl =\n",
              "          document.querySelector('#df-9f8a63c8-e6b9-47c8-9759-48772f740209 button.colab-df-convert');\n",
              "        buttonEl.style.display =\n",
              "          google.colab.kernel.accessAllowed ? 'block' : 'none';\n",
              "\n",
              "        async function convertToInteractive(key) {\n",
              "          const element = document.querySelector('#df-9f8a63c8-e6b9-47c8-9759-48772f740209');\n",
              "          const dataTable =\n",
              "            await google.colab.kernel.invokeFunction('convertToInteractive',\n",
              "                                                     [key], {});\n",
              "          if (!dataTable) return;\n",
              "\n",
              "          const docLinkHtml = 'Like what you see? Visit the ' +\n",
              "            '<a target=\"_blank\" href=https://colab.research.google.com/notebooks/data_table.ipynb>data table notebook</a>'\n",
              "            + ' to learn more about interactive tables.';\n",
              "          element.innerHTML = '';\n",
              "          dataTable['output_type'] = 'display_data';\n",
              "          await google.colab.output.renderOutput(dataTable, element);\n",
              "          const docLink = document.createElement('div');\n",
              "          docLink.innerHTML = docLinkHtml;\n",
              "          element.appendChild(docLink);\n",
              "        }\n",
              "      </script>\n",
              "    </div>\n",
              "  </div>\n",
              "  "
            ],
            "text/plain": [
              "                 Age  Education Num\n",
              "Above/Below 50k                    \n",
              " <=50K            73             16\n",
              " >50K             65             15"
            ]
          },
          "metadata": {},
          "execution_count": 31
        }
      ]
    },
    {
      "cell_type": "code",
      "source": [
        "adult.groupby(by=\"Above/Below 50k\")['Education Num'].value_counts()"
      ],
      "metadata": {
        "colab": {
          "base_uri": "https://localhost:8080/"
        },
        "id": "Szkb8br-JZbq",
        "outputId": "92cc8627-d116-4dcb-e24c-70c9fa134348"
      },
      "execution_count": 34,
      "outputs": [
        {
          "output_type": "execute_result",
          "data": {
            "text/plain": [
              "Above/Below 50k  Education Num\n",
              " <=50K           9                8826\n",
              "                 10               5904\n",
              "                 13               3134\n",
              "                 7                1115\n",
              "                 11               1021\n",
              "                 6                 871\n",
              "                 12                802\n",
              "                 14                764\n",
              "                 4                 606\n",
              "                 5                 487\n",
              "                 8                 400\n",
              "                 3                 317\n",
              "                 2                 162\n",
              "                 15                153\n",
              "                 16                107\n",
              "                 1                  51\n",
              " >50K            13               2221\n",
              "                 9                1675\n",
              "                 10               1387\n",
              "                 14                959\n",
              "                 15                423\n",
              "                 11                361\n",
              "                 16                306\n",
              "                 12                265\n",
              "                 6                  62\n",
              "                 7                  60\n",
              "                 4                  40\n",
              "                 8                  33\n",
              "                 5                  27\n",
              "                 3                  16\n",
              "                 2                   6\n",
              "Name: Education Num, dtype: int64"
            ]
          },
          "metadata": {},
          "execution_count": 34
        }
      ]
    },
    {
      "cell_type": "markdown",
      "source": [
        "### ***Create lots of groups***\n",
        "\n",
        "You want to find the mean Age of adults when grouping by the following categories:\n",
        "\n",
        "* `\"Workclass\"` (which has 9 categories)\n",
        "* `\"Above/Below 50k\"` (which has 2 categories)\n",
        "* `\"Education\"` (which has 16 categories).\n",
        "\n",
        "You have developed the following bit of code:\n",
        "\n",
        "```\n",
        "gb = adult.groupby(by=[\"Workclass\", \"Above/Below 50k\", \"Education\"])\n",
        "```\n",
        "\n",
        "How many groups are in the `gb` object and what is the maximum possible number of groups that could have been created? \n",
        "\n",
        "ANSWER: Only combinations of the three variables that exist are created when using **`groupby()`**. In this example, 208 groups are created out of 288 (2 * 9 * 16) possible groups."
      ],
      "metadata": {
        "id": "Xa3T3My3Kw5h"
      }
    },
    {
      "cell_type": "markdown",
      "source": [
        "### ***Setting up a **`.groupby()`** statement***\n",
        "\n",
        "The <ins>***gender wage gap***</ins> is a hot-topic item in the United States and across the world. Using the `adult` census income dataset, loaded as `adult`, you want to check if some of the recently published data lines up with this income survey.\n",
        "\n",
        "* Split the `adult` dataset across the `\"Sex\"` and `\"Above/Below 50k\"` columns, saving this object as `gb`.\n",
        "* Print out the number of observations found in each group.\n",
        "* Using `gb`, find the average of each numerical column."
      ],
      "metadata": {
        "id": "4x66sWF2L0Gf"
      }
    },
    {
      "cell_type": "code",
      "source": [
        "import pandas as pd\n",
        "pd.options.display.float_format = '{:,.3f}'.format\n",
        "\n",
        "adult = pd.read_csv(\"adult.csv\", dtype={\"Marital Status\": \"category\", \"Workclass\": \"category\", \"Education\": \"category\", \"Relationship\": \"category\", \"Above/Below 50k\": \"category\"})\n",
        "\n",
        "# Group the adult dataset by \"Sex\" and \"Above/Below 50k\"\n",
        "gb = adult.groupby(['Sex', 'Above/Below 50k'])\n",
        "\n",
        "# Print out how many rows are in each created group\n",
        "print('How many rows are in each created group')\n",
        "print(gb.size(), \"\\n\")\n",
        "\n",
        "# Print out the mean of each group for all columns\n",
        "display(gb.mean())"
      ],
      "metadata": {
        "colab": {
          "base_uri": "https://localhost:8080/",
          "height": 352
        },
        "id": "Ll5m0da6Jlne",
        "outputId": "234a57a9-ddbb-4ff3-ce66-2ccb3cc455d7"
      },
      "execution_count": 47,
      "outputs": [
        {
          "output_type": "stream",
          "name": "stdout",
          "text": [
            "How many rows are in each created group\n",
            "Sex      Above/Below 50k\n",
            " Female   <=50K              9592\n",
            "          >50K               1179\n",
            " Male     <=50K             15128\n",
            "          >50K               6662\n",
            "dtype: int64 \n",
            "\n"
          ]
        },
        {
          "output_type": "display_data",
          "data": {
            "text/html": [
              "\n",
              "  <div id=\"df-9036cabc-b1f9-460f-a0fa-36036b85dceb\">\n",
              "    <div class=\"colab-df-container\">\n",
              "      <div>\n",
              "<style scoped>\n",
              "    .dataframe tbody tr th:only-of-type {\n",
              "        vertical-align: middle;\n",
              "    }\n",
              "\n",
              "    .dataframe tbody tr th {\n",
              "        vertical-align: top;\n",
              "    }\n",
              "\n",
              "    .dataframe thead th {\n",
              "        text-align: right;\n",
              "    }\n",
              "</style>\n",
              "<table border=\"1\" class=\"dataframe\">\n",
              "  <thead>\n",
              "    <tr style=\"text-align: right;\">\n",
              "      <th></th>\n",
              "      <th></th>\n",
              "      <th>Age</th>\n",
              "      <th>fnlgwt</th>\n",
              "      <th>Education Num</th>\n",
              "      <th>Capital Gain</th>\n",
              "      <th>Capital Loss</th>\n",
              "      <th>Hours/Week</th>\n",
              "    </tr>\n",
              "    <tr>\n",
              "      <th>Sex</th>\n",
              "      <th>Above/Below 50k</th>\n",
              "      <th></th>\n",
              "      <th></th>\n",
              "      <th></th>\n",
              "      <th></th>\n",
              "      <th></th>\n",
              "      <th></th>\n",
              "    </tr>\n",
              "  </thead>\n",
              "  <tbody>\n",
              "    <tr>\n",
              "      <th rowspan=\"2\" valign=\"top\">Female</th>\n",
              "      <th>&lt;=50K</th>\n",
              "      <td>36.211</td>\n",
              "      <td>185,999.381</td>\n",
              "      <td>9.820</td>\n",
              "      <td>121.986</td>\n",
              "      <td>47.364</td>\n",
              "      <td>35.917</td>\n",
              "    </tr>\n",
              "    <tr>\n",
              "      <th>&gt;50K</th>\n",
              "      <td>42.126</td>\n",
              "      <td>183,687.406</td>\n",
              "      <td>11.787</td>\n",
              "      <td>4,200.389</td>\n",
              "      <td>173.649</td>\n",
              "      <td>40.427</td>\n",
              "    </tr>\n",
              "    <tr>\n",
              "      <th rowspan=\"2\" valign=\"top\">Male</th>\n",
              "      <th>&lt;=50K</th>\n",
              "      <td>37.147</td>\n",
              "      <td>193,093.609</td>\n",
              "      <td>9.452</td>\n",
              "      <td>165.724</td>\n",
              "      <td>56.807</td>\n",
              "      <td>40.694</td>\n",
              "    </tr>\n",
              "    <tr>\n",
              "      <th>&gt;50K</th>\n",
              "      <td>44.626</td>\n",
              "      <td>188,769.101</td>\n",
              "      <td>11.581</td>\n",
              "      <td>3,971.766</td>\n",
              "      <td>198.780</td>\n",
              "      <td>46.366</td>\n",
              "    </tr>\n",
              "  </tbody>\n",
              "</table>\n",
              "</div>\n",
              "      <button class=\"colab-df-convert\" onclick=\"convertToInteractive('df-9036cabc-b1f9-460f-a0fa-36036b85dceb')\"\n",
              "              title=\"Convert this dataframe to an interactive table.\"\n",
              "              style=\"display:none;\">\n",
              "        \n",
              "  <svg xmlns=\"http://www.w3.org/2000/svg\" height=\"24px\"viewBox=\"0 0 24 24\"\n",
              "       width=\"24px\">\n",
              "    <path d=\"M0 0h24v24H0V0z\" fill=\"none\"/>\n",
              "    <path d=\"M18.56 5.44l.94 2.06.94-2.06 2.06-.94-2.06-.94-.94-2.06-.94 2.06-2.06.94zm-11 1L8.5 8.5l.94-2.06 2.06-.94-2.06-.94L8.5 2.5l-.94 2.06-2.06.94zm10 10l.94 2.06.94-2.06 2.06-.94-2.06-.94-.94-2.06-.94 2.06-2.06.94z\"/><path d=\"M17.41 7.96l-1.37-1.37c-.4-.4-.92-.59-1.43-.59-.52 0-1.04.2-1.43.59L10.3 9.45l-7.72 7.72c-.78.78-.78 2.05 0 2.83L4 21.41c.39.39.9.59 1.41.59.51 0 1.02-.2 1.41-.59l7.78-7.78 2.81-2.81c.8-.78.8-2.07 0-2.86zM5.41 20L4 18.59l7.72-7.72 1.47 1.35L5.41 20z\"/>\n",
              "  </svg>\n",
              "      </button>\n",
              "      \n",
              "  <style>\n",
              "    .colab-df-container {\n",
              "      display:flex;\n",
              "      flex-wrap:wrap;\n",
              "      gap: 12px;\n",
              "    }\n",
              "\n",
              "    .colab-df-convert {\n",
              "      background-color: #E8F0FE;\n",
              "      border: none;\n",
              "      border-radius: 50%;\n",
              "      cursor: pointer;\n",
              "      display: none;\n",
              "      fill: #1967D2;\n",
              "      height: 32px;\n",
              "      padding: 0 0 0 0;\n",
              "      width: 32px;\n",
              "    }\n",
              "\n",
              "    .colab-df-convert:hover {\n",
              "      background-color: #E2EBFA;\n",
              "      box-shadow: 0px 1px 2px rgba(60, 64, 67, 0.3), 0px 1px 3px 1px rgba(60, 64, 67, 0.15);\n",
              "      fill: #174EA6;\n",
              "    }\n",
              "\n",
              "    [theme=dark] .colab-df-convert {\n",
              "      background-color: #3B4455;\n",
              "      fill: #D2E3FC;\n",
              "    }\n",
              "\n",
              "    [theme=dark] .colab-df-convert:hover {\n",
              "      background-color: #434B5C;\n",
              "      box-shadow: 0px 1px 3px 1px rgba(0, 0, 0, 0.15);\n",
              "      filter: drop-shadow(0px 1px 2px rgba(0, 0, 0, 0.3));\n",
              "      fill: #FFFFFF;\n",
              "    }\n",
              "  </style>\n",
              "\n",
              "      <script>\n",
              "        const buttonEl =\n",
              "          document.querySelector('#df-9036cabc-b1f9-460f-a0fa-36036b85dceb button.colab-df-convert');\n",
              "        buttonEl.style.display =\n",
              "          google.colab.kernel.accessAllowed ? 'block' : 'none';\n",
              "\n",
              "        async function convertToInteractive(key) {\n",
              "          const element = document.querySelector('#df-9036cabc-b1f9-460f-a0fa-36036b85dceb');\n",
              "          const dataTable =\n",
              "            await google.colab.kernel.invokeFunction('convertToInteractive',\n",
              "                                                     [key], {});\n",
              "          if (!dataTable) return;\n",
              "\n",
              "          const docLinkHtml = 'Like what you see? Visit the ' +\n",
              "            '<a target=\"_blank\" href=https://colab.research.google.com/notebooks/data_table.ipynb>data table notebook</a>'\n",
              "            + ' to learn more about interactive tables.';\n",
              "          element.innerHTML = '';\n",
              "          dataTable['output_type'] = 'display_data';\n",
              "          await google.colab.output.renderOutput(dataTable, element);\n",
              "          const docLink = document.createElement('div');\n",
              "          docLink.innerHTML = docLinkHtml;\n",
              "          element.appendChild(docLink);\n",
              "        }\n",
              "      </script>\n",
              "    </div>\n",
              "  </div>\n",
              "  "
            ],
            "text/plain": [
              "                           Age      fnlgwt  ...  Capital Loss  Hours/Week\n",
              "Sex     Above/Below 50k                     ...                          \n",
              " Female  <=50K          36.211 185,999.381  ...        47.364      35.917\n",
              "         >50K           42.126 183,687.406  ...       173.649      40.427\n",
              " Male    <=50K          37.147 193,093.609  ...        56.807      40.694\n",
              "         >50K           44.626 188,769.101  ...       198.780      46.366\n",
              "\n",
              "[4 rows x 6 columns]"
            ]
          },
          "metadata": {}
        }
      ]
    },
    {
      "cell_type": "markdown",
      "source": [
        "It does look like the proportion of women (1,179 observations) making more than 50k is a lot lower than men (6,662 observations). However, women making more than 50k are on average younger (42 years) than their male counterparts (45 years).\n",
        "\n",
        "### ***Using pandas functions effectively***\n",
        "\n",
        "* Create a list of the names for two user-selected variables: `\"Education\"` and `\"Above/Below 50k\"`.\n",
        "* Create a GroupBy object, `gb`, using the `user_list` as the grouping variables.\n",
        "* Calculate the mean of `\"Hours/Week\"` across each group using the most efficient approach covered in the video."
      ],
      "metadata": {
        "id": "9cNYz6d9NR_l"
      }
    },
    {
      "cell_type": "code",
      "source": [
        "import pandas as pd\n",
        "pd.options.display.float_format = '{:,.3f}'.format\n",
        "\n",
        "adult = pd.read_csv(\"adult.csv\", dtype={\"Marital Status\": \"category\", \"Workclass\": \"category\", \"Education\": \"category\", \"Relationship\": \"category\", \"Above/Below 50k\": \"category\"})\n",
        "\n",
        "# Create a list of user-selected variables\n",
        "user_list = [\"Education\", \"Above/Below 50k\"]\n",
        "\n",
        "# Create a GroupBy object using this list\n",
        "gb = adult.groupby(user_list)\n",
        "\n",
        "# Find the mean for the variable \"Hours/Week\" for each group - Be efficient!\n",
        "print(gb['Hours/Week'].mean())"
      ],
      "metadata": {
        "colab": {
          "base_uri": "https://localhost:8080/"
        },
        "id": "hUOk2LOUMmbR",
        "outputId": "697954b5-5183-400c-d984-b86677cbe05e"
      },
      "execution_count": 48,
      "outputs": [
        {
          "output_type": "stream",
          "name": "stdout",
          "text": [
            "Education      Above/Below 50k\n",
            " 10th           <=50K            36.574\n",
            "                >50K             43.774\n",
            " 11th           <=50K            33.323\n",
            "                >50K             45.133\n",
            " 12th           <=50K            35.035\n",
            "                >50K             44.818\n",
            " 1st-4th        <=50K            37.864\n",
            "                >50K             48.833\n",
            " 5th-6th        <=50K            38.539\n",
            "                >50K             46.000\n",
            " 7th-8th        <=50K            38.830\n",
            "                >50K             47.500\n",
            " 9th            <=50K            37.667\n",
            "                >50K             44.852\n",
            " Assoc-acdm     <=50K            39.264\n",
            "                >50K             44.257\n",
            " Assoc-voc      <=50K            40.818\n",
            "                >50K             43.853\n",
            " Bachelors      <=50K            40.586\n",
            "                >50K             45.475\n",
            " Doctorate      <=50K            45.430\n",
            "                >50K             47.513\n",
            " HS-grad        <=50K            39.728\n",
            "                >50K             45.043\n",
            " Masters        <=50K            41.224\n",
            "                >50K             45.918\n",
            " Preschool      <=50K            36.647\n",
            "                >50K                NaN\n",
            " Prof-school    <=50K            42.817\n",
            "                >50K             49.092\n",
            " Some-college   <=50K            37.450\n",
            "                >50K             44.820\n",
            "Name: Hours/Week, dtype: float64\n"
          ]
        }
      ]
    },
    {
      "cell_type": "markdown",
      "source": [
        "People earning more than \\$50,000 tend to work a lot more hours, regardless of their education, than people earning less than \\$50,000. Remember, <ins>*it's important to select your variables before calling a function*</ins>. Large datatsets might have problems calculating the mean of every numerical column."
      ],
      "metadata": {
        "id": "z8vy9D3WOmjs"
      }
    },
    {
      "cell_type": "code",
      "source": [
        "import pandas as pd\n",
        "\n",
        "dogs = pd.read_csv('ShelterDogs.csv', dtype={'coat':'category', 'likes_people':'category'})\n",
        "dogs['coat'].value_counts()"
      ],
      "metadata": {
        "colab": {
          "base_uri": "https://localhost:8080/"
        },
        "id": "pwbfkTy3OdGs",
        "outputId": "e4c47cd7-8a9a-47f7-a820-080c6f303a61"
      },
      "execution_count": 68,
      "outputs": [
        {
          "output_type": "execute_result",
          "data": {
            "text/plain": [
              "short         1972\n",
              "medium         565\n",
              "wirehaired     220\n",
              "long           180\n",
              "Name: coat, dtype: int64"
            ]
          },
          "metadata": {},
          "execution_count": 68
        }
      ]
    },
    {
      "cell_type": "markdown",
      "source": [
        "# ***The `.cat` accessor***\n",
        "\n",
        "* `new_categories` : a list of categories\n",
        "* `inplace` : Boolean - whether or not the update should overwrite the Series\n",
        "* `ordered` : Boolean - whether or not the categorical is treated as an ordered categorical\n",
        "\n",
        "# ***Setting Series categories***\n",
        "\n",
        "Any value not listed in the categories will be `NaN`."
      ],
      "metadata": {
        "id": "BuO6-uAA3ygl"
      }
    },
    {
      "cell_type": "code",
      "source": [
        "dogs[\"coat\"] = dogs[\"coat\"].cat.set_categories(new_categories=[\"short\", \"medium\", \"long\"])\n",
        "dogs[\"coat\"].value_counts(dropna=False)"
      ],
      "metadata": {
        "colab": {
          "base_uri": "https://localhost:8080/"
        },
        "id": "DuRKi6Nj3kPG",
        "outputId": "00aa6ced-1f26-4957-bb8a-1ed0094ef694"
      },
      "execution_count": 56,
      "outputs": [
        {
          "output_type": "execute_result",
          "data": {
            "text/plain": [
              "short     1972\n",
              "medium     565\n",
              "NaN        220\n",
              "long       180\n",
              "Name: coat, dtype: int64"
            ]
          },
          "metadata": {},
          "execution_count": 56
        }
      ]
    },
    {
      "cell_type": "markdown",
      "source": [
        "# ***Setting order***"
      ],
      "metadata": {
        "id": "yQVagWFM5WgD"
      }
    },
    {
      "cell_type": "code",
      "source": [
        "dogs[\"coat\"] = dogs[\"coat\"].cat.set_categories(new_categories=[\"short\", \"medium\", \"long\"], ordered=True)\n",
        "dogs[\"coat\"].head(3)"
      ],
      "metadata": {
        "colab": {
          "base_uri": "https://localhost:8080/"
        },
        "id": "_0XfbqhO5DEn",
        "outputId": "96ce729e-5b99-46fa-bc35-590042eabc48"
      },
      "execution_count": 57,
      "outputs": [
        {
          "output_type": "execute_result",
          "data": {
            "text/plain": [
              "0    short\n",
              "1    short\n",
              "2    short\n",
              "Name: coat, dtype: category\n",
              "Categories (3, object): ['short' < 'medium' < 'long']"
            ]
          },
          "metadata": {},
          "execution_count": 57
        }
      ]
    },
    {
      "cell_type": "markdown",
      "source": [
        "# ***Adding categories (ตรงนี้แค่ add ยังไม่ได้ assign ค่าใหม่ให้ `NaN`)***"
      ],
      "metadata": {
        "id": "MNKmD6Ei5xgb"
      }
    },
    {
      "cell_type": "code",
      "source": [
        "print(dogs['likes_people'].value_counts(dropna=False))\n",
        "\n",
        "dogs[\"likes_people\"] = dogs[\"likes_people\"].cat.add_categories(new_categories=[\"did not check\", \"could not tell\"])"
      ],
      "metadata": {
        "colab": {
          "base_uri": "https://localhost:8080/"
        },
        "id": "4veNFOyD5fni",
        "outputId": "6da2d4d5-058c-434e-885c-4b30f5e25b20"
      },
      "execution_count": 63,
      "outputs": [
        {
          "output_type": "stream",
          "name": "stdout",
          "text": [
            "yes    1991\n",
            "NaN     938\n",
            "no        8\n",
            "Name: likes_people, dtype: int64\n"
          ]
        }
      ]
    },
    {
      "cell_type": "markdown",
      "source": [
        "# ***Removing categories***\n",
        "\n"
      ],
      "metadata": {
        "id": "mncKV6CF62Zb"
      }
    },
    {
      "cell_type": "code",
      "source": [
        "print(dogs[\"coat\"].cat.categories)\n",
        "\n",
        "dogs[\"coat\"] = dogs[\"coat\"].cat.remove_categories(removals=[\"wirehaired\"])\n",
        "\n",
        "print(dogs[\"coat\"].cat.categories)"
      ],
      "metadata": {
        "colab": {
          "base_uri": "https://localhost:8080/"
        },
        "id": "OmGxexai532V",
        "outputId": "578f004a-546a-469a-f920-23e94493d56f"
      },
      "execution_count": 69,
      "outputs": [
        {
          "output_type": "stream",
          "name": "stdout",
          "text": [
            "Index(['long', 'medium', 'short', 'wirehaired'], dtype='object')\n",
            "Index(['long', 'medium', 'short'], dtype='object')\n"
          ]
        }
      ]
    },
    {
      "cell_type": "markdown",
      "source": [
        "### ***Adding categories***\n",
        "\n",
        "The owner of a local dog adoption agency has listings for almost 3,000 dogs. One of the most common questions they have been receiving lately is: \"What type of area was the dog previously kept in?\". You are setting up a pipeline to do some analysis and want to look into what information is available regarding the `\"keep_in\"` variable. \n",
        "\n",
        "* Print the frequency of the responses in the `\"keep_in\"` variable and make sure the count of `NaN` values are shown.\n",
        "* Convert the `\"keep_in\"` variable to a categorical Series.\n",
        "* Add the list of new categories provided by the adoption agency, `new_categories`, to the `\"keep_in\"` column.\n",
        "* Print the frequency counts of the `keep_in` column and do not drop `NaN` values."
      ],
      "metadata": {
        "id": "fXeDherK72aX"
      }
    },
    {
      "cell_type": "code",
      "source": [
        "import pandas as pd\n",
        "\n",
        "dogs = pd.read_csv('ShelterDogs.csv', dtype={'coat':'category', 'likes_people':'category'})\n",
        "\n",
        "# Check frequency counts while also printing the NaN count\n",
        "print(dogs[\"keep_in\"].value_counts(dropna=False), \"\\n\\n\")\n",
        "\n",
        "# Switch to a categorical variable\n",
        "dogs[\"keep_in\"] = dogs[\"keep_in\"].astype(\"category\")\n",
        "\n",
        "# Add new categories\n",
        "new_categories = [\"Unknown History\", \"Open Yard (Countryside)\"]\n",
        "dogs[\"keep_in\"] = dogs[\"keep_in\"].cat.add_categories(new_categories)\n",
        "\n",
        "# Check frequency counts one more time\n",
        "print(dogs['keep_in'].value_counts(dropna=False))"
      ],
      "metadata": {
        "colab": {
          "base_uri": "https://localhost:8080/"
        },
        "id": "R6sJLDOZ6CMX",
        "outputId": "c4e01922-6a8c-489f-e11b-a7eded458ead"
      },
      "execution_count": 71,
      "outputs": [
        {
          "output_type": "stream",
          "name": "stdout",
          "text": [
            "both flat and garden    1224\n",
            "NaN                     1021\n",
            "garden                   510\n",
            "flat                     182\n",
            "Name: keep_in, dtype: int64 \n",
            "\n",
            "\n",
            "both flat and garden       1224\n",
            "NaN                        1021\n",
            "garden                      510\n",
            "flat                        182\n",
            "Unknown History               0\n",
            "Open Yard (Countryside)       0\n",
            "Name: keep_in, dtype: int64\n"
          ]
        }
      ]
    },
    {
      "cell_type": "markdown",
      "source": [
        "When the adoption agency starts adding more information to this column, they will need to use one of the five categories now available in the `'keep_in'` variable.\n",
        "\n",
        "### ***Removing categories***\n",
        "\n",
        "Before adopting dogs, parents might want to know whether or not a new dog likes children. When looking at the adoptable dogs dataset, `dogs`, you notice that the frequency of responses for the categorical Series `\"likes_children\"` looks like this:\n",
        "\n",
        "```\n",
        "maybe     1718\n",
        "yes       1172\n",
        "no          47\n",
        "```\n",
        "\n",
        "The owner of the data wants to convert all `\"maybe\"` responses to `\"no\"`, as it would be unsafe to let a family adopt a dog if it doesn't like children. \n",
        "\n",
        "* Print out the categories of the categorical Series `dogs[\"likes_children\"]`.\n",
        "* Print out the frequency table for `\"likes_children\"` to see if any `\"maybe\"` responses remain.\n",
        "* Print out the categories of `\"likes_children\"` one more time."
      ],
      "metadata": {
        "id": "EVzdE4iO9b4c"
      }
    },
    {
      "cell_type": "code",
      "source": [
        "import pandas as pd\n",
        "\n",
        "dogs = pd.read_csv('ShelterDogs.csv', dtype={'coat':'category', 'likes_people':'category'})\n",
        "dogs['likes_children'].fillna('maybe', inplace=True)\n",
        "dogs['likes_children'] = dogs['likes_children'].astype('category')\n",
        "\n",
        "print(dogs['likes_children'].value_counts(dropna=False), \"\\n\\n\")\n",
        "\n",
        "# Set \"maybe\" to be \"no\"\n",
        "dogs.loc[dogs[\"likes_children\"] == \"maybe\", \"likes_children\"] = \"no\"\n",
        "\n",
        "# Print out categories\n",
        "print(dogs[\"likes_children\"].cat.categories,  \"\\n\\n\")\n",
        "\n",
        "# Print the frequency table\n",
        "print(dogs[\"likes_children\"].value_counts(), \"\\n\\n\")\n",
        "\n",
        "# Remove the \"maybe\" category\n",
        "dogs[\"likes_children\"] = dogs[\"likes_children\"].cat.remove_categories([\"maybe\"])\n",
        "print(dogs[\"likes_children\"].value_counts(), \"\\n\\n\")\n",
        "\n",
        "# Print the categories one more time\n",
        "print(dogs['likes_children'].cat.categories)"
      ],
      "metadata": {
        "colab": {
          "base_uri": "https://localhost:8080/"
        },
        "id": "s9ip7d1s9Qdy",
        "outputId": "f820e48f-3f66-4639-9049-9b2bae0057bd"
      },
      "execution_count": 8,
      "outputs": [
        {
          "output_type": "stream",
          "name": "stdout",
          "text": [
            "maybe    1718\n",
            "yes      1172\n",
            "no         47\n",
            "Name: likes_children, dtype: int64 \n",
            "\n",
            "\n",
            "Index(['maybe', 'no', 'yes'], dtype='object') \n",
            "\n",
            "\n",
            "no       1765\n",
            "yes      1172\n",
            "maybe       0\n",
            "Name: likes_children, dtype: int64 \n",
            "\n",
            "\n",
            "no     1765\n",
            "yes    1172\n",
            "Name: likes_children, dtype: int64 \n",
            "\n",
            "\n",
            "Index(['no', 'yes'], dtype='object')\n"
          ]
        }
      ]
    },
    {
      "cell_type": "markdown",
      "source": [
        "# ***Renaming categories***"
      ],
      "metadata": {
        "id": "i7ruFMig_RJ9"
      }
    },
    {
      "cell_type": "code",
      "source": [
        "dogs[\"breed\"] = dogs[\"breed\"].astype(\"category\")\n",
        "dogs[\"breed\"].value_counts().head(3)"
      ],
      "metadata": {
        "colab": {
          "base_uri": "https://localhost:8080/"
        },
        "id": "zijfBsxh-luZ",
        "outputId": "e3d7eb50-72ed-4e8e-9a62-951d1b89a428"
      },
      "execution_count": 13,
      "outputs": [
        {
          "output_type": "execute_result",
          "data": {
            "text/plain": [
              "Unknown                    1524\n",
              "German Shepherd Dog Mix     190\n",
              "Dachshund Mix               147\n",
              "Name: breed, dtype: int64"
            ]
          },
          "metadata": {},
          "execution_count": 13
        }
      ]
    },
    {
      "cell_type": "code",
      "source": [
        "dogs[\"breed\"] = dogs[\"breed\"].cat.rename_categories({\"Unknown Mix\": \"Unknown\"})\n",
        "dogs[\"breed\"].value_counts().head(3)"
      ],
      "metadata": {
        "colab": {
          "base_uri": "https://localhost:8080/"
        },
        "id": "PJx8S0XdGI-T",
        "outputId": "c1dfc5e2-7bd8-4f67-ae3a-61dd14cd67f8"
      },
      "execution_count": 12,
      "outputs": [
        {
          "output_type": "execute_result",
          "data": {
            "text/plain": [
              "Unknown                    1524\n",
              "German Shepherd Dog Mix     190\n",
              "Dachshund Mix               147\n",
              "Name: breed, dtype: int64"
            ]
          },
          "metadata": {},
          "execution_count": 12
        }
      ]
    },
    {
      "cell_type": "markdown",
      "source": [
        "# ***Renaming categories with a function***"
      ],
      "metadata": {
        "id": "DGIG3ycMHYbs"
      }
    },
    {
      "cell_type": "code",
      "source": [
        "dogs['sex'] = dogs['sex'].astype('category')  \n",
        "print(dogs['sex'].cat.categories, \"\\n\")\n",
        "dogs['sex'] = dogs['sex'].cat.rename_categories(lambda c: c.title())\n",
        "print(dogs['sex'].cat.categories)"
      ],
      "metadata": {
        "colab": {
          "base_uri": "https://localhost:8080/"
        },
        "id": "VorUvGLJGn57",
        "outputId": "764e6a6d-1f7c-412c-a806-3f5abdb06620"
      },
      "execution_count": 15,
      "outputs": [
        {
          "output_type": "stream",
          "name": "stdout",
          "text": [
            "Index(['female', 'male'], dtype='object') \n",
            "\n",
            "Index(['Female', 'Male'], dtype='object')\n"
          ]
        }
      ]
    },
    {
      "cell_type": "markdown",
      "source": [
        "# ***Common replacement issues***\n",
        "\n",
        "* Must use new category names"
      ],
      "metadata": {
        "id": "4oJKiQQGIJtA"
      }
    },
    {
      "cell_type": "code",
      "source": [
        "# Does not work! \"Unknown\" already exists\n",
        "use_new_categories = {\"Unknown Mix\": \"Unknown\"}"
      ],
      "metadata": {
        "id": "dW0Y6SN8HiK9"
      },
      "execution_count": null,
      "outputs": []
    },
    {
      "cell_type": "markdown",
      "source": [
        "* Cannot collapse two categories into one"
      ],
      "metadata": {
        "id": "lZHcuv7rITV4"
      }
    },
    {
      "cell_type": "code",
      "source": [
        "# Does not work! New names must be unique\n",
        "cannot_repeat_categories = {\"Unknown Mix\": \"Unknown\", \"Mixed Breed\": \"Unknown\"}"
      ],
      "metadata": {
        "id": "XBvOCDX0IVKI"
      },
      "execution_count": null,
      "outputs": []
    },
    {
      "cell_type": "markdown",
      "source": [
        "# ***To collapse categories you must convert back to categorical type***\n",
        "## ***Probably in earlier pandas version***"
      ],
      "metadata": {
        "id": "Dkc0rX2MIZa-"
      }
    },
    {
      "cell_type": "code",
      "source": [
        "import pandas as pd\n",
        "\n",
        "dogs = pd.read_csv('ShelterDogs.csv', dtype={'coat':'category', 'likes_people':'category'})\n",
        "\n",
        "dogs[\"color\"] = dogs[\"color\"].astype(\"category\")\n",
        "print(dogs[\"color\"].cat.categories)"
      ],
      "metadata": {
        "colab": {
          "base_uri": "https://localhost:8080/"
        },
        "id": "dQeqhBECI-Ns",
        "outputId": "a4d22396-b047-49fc-c9d5-f69e74091159"
      },
      "execution_count": 30,
      "outputs": [
        {
          "output_type": "stream",
          "name": "stdout",
          "text": [
            "Index(['apricot', 'black', 'black and brown', 'black and tan',\n",
            "       'black and white', 'brown', 'brown and white', 'dotted', 'golden',\n",
            "       'gray', 'gray and black', 'gray and white', 'red', 'red and white',\n",
            "       'sable', 'saddle back', 'spotty', 'striped', 'tricolor', 'white',\n",
            "       'wild boar', 'yellow', 'yellow-brown'],\n",
            "      dtype='object')\n"
          ]
        }
      ]
    },
    {
      "cell_type": "code",
      "source": [
        "update_colors = {\"black and brown\": \"black\",\"black and tan\": \"black\",\"black and white\": \"black\"}\n",
        "dogs[\"main_color\"] = dogs[\"color\"].replace(update_colors)\n",
        "dogs[\"main_color\"].dtype"
      ],
      "metadata": {
        "colab": {
          "base_uri": "https://localhost:8080/"
        },
        "id": "OYmu-ARCJJ5e",
        "outputId": "cc8badd5-263d-49b2-a437-ee64562a25a3"
      },
      "execution_count": 32,
      "outputs": [
        {
          "output_type": "execute_result",
          "data": {
            "text/plain": [
              "CategoricalDtype(categories=['apricot', 'black', 'brown', 'brown and white', 'dotted',\n",
              "                  'golden', 'gray', 'gray and black', 'gray and white', 'red',\n",
              "                  'red and white', 'sable', 'saddle back', 'spotty', 'striped',\n",
              "                  'tricolor', 'white', 'wild boar', 'yellow', 'yellow-brown'],\n",
              ", ordered=False)"
            ]
          },
          "metadata": {},
          "execution_count": 32
        }
      ]
    },
    {
      "cell_type": "markdown",
      "source": [
        "### ***Renaming categories***\n",
        "\n",
        "The `likes_children` column of the adoptable dogs dataset needs an update. Here are the current frequency counts:\n",
        "\n",
        "```\n",
        "Maybe?    1718\n",
        "yes       1172\n",
        "no          47\n",
        "```\n",
        "\n",
        "Two things that stick out are the differences in capitalization and the `?` found in the `Maybe?` category. The data should be cleaner than this and you are being asked to make a few changes.\n",
        "\n",
        "* Create a dictionary called `my_changes` that will update the `Maybe?` category to `Maybe`.\n",
        "* Rename the categories in `likes_children` using the `my_changes` dictionary.\n",
        "* Update the categories one more time so that all categories are uppercase using the `.upper()` method.\n",
        "* Print out the categories of the updated `likes_children` Series."
      ],
      "metadata": {
        "id": "KpujerYILdxh"
      }
    },
    {
      "cell_type": "code",
      "source": [
        "import pandas as pd\n",
        "\n",
        "dogs = pd.read_csv('ShelterDogs.csv', dtype={'coat':'category', 'likes_people':'category'})\n",
        "dogs['likes_children'].fillna('Maybe?', inplace=True)\n",
        "dogs['likes_children'] = dogs['likes_children'].astype('category')\n",
        "\n",
        "print(dogs['likes_children'].value_counts(dropna=False), \"\\n\\n\")\n",
        "\n",
        "# Create the my_changes dictionary\n",
        "my_changes = {'Maybe?':'Maybe'}\n",
        "\n",
        "# Rename the categories listed in the my_changes dictionary\n",
        "dogs[\"likes_children\"] = dogs[\"likes_children\"].cat.rename_categories(my_changes)\n",
        "\n",
        "# Use a lambda function to convert all categories to uppercase using upper()\n",
        "dogs[\"likes_children\"] =  dogs[\"likes_children\"].cat.rename_categories(lambda c: c.upper())\n",
        "\n",
        "# Print the list of categories\n",
        "print(dogs[\"likes_children\"].cat.categories)"
      ],
      "metadata": {
        "colab": {
          "base_uri": "https://localhost:8080/"
        },
        "id": "Wxb2YWCXKmPN",
        "outputId": "49b35ee0-78dc-4355-84b6-29a06b7c6169"
      },
      "execution_count": 35,
      "outputs": [
        {
          "output_type": "stream",
          "name": "stdout",
          "text": [
            "Maybe?    1718\n",
            "yes       1172\n",
            "no          47\n",
            "Name: likes_children, dtype: int64 \n",
            "\n",
            "\n",
            "Index(['MAYBE', 'NO', 'YES'], dtype='object')\n"
          ]
        }
      ]
    },
    {
      "cell_type": "markdown",
      "source": [
        "### ***Collapsing categories***\n",
        "\n",
        "One problem that users of a local dog adoption website have voiced is that there are too many options. As they look through the different types of dogs, they are getting lost in the overwhelming amount of choice. To simplify some of the data, you are going through each column and collapsing data if appropriate. To preserve the original data, you are going to make new updated columns in the dogs dataset. You will start with the `coat` column. The frequency table is listed here:\n",
        "\n",
        "```\n",
        "short          1969\n",
        "medium          565\n",
        "wirehaired      220\n",
        "long            180\n",
        "medium-long       3\n",
        "```\n",
        "\n",
        "* Create a dictionary named `update_coats` to map both `wirehaired` and `medium-long` to medium.\n",
        "* Collapse the categories listed in this new dictionary and save this as a new column, `coat_collapsed`.\n",
        "* Convert this new column into a categorical Series.\n",
        "* Print the frequency table of this new Series."
      ],
      "metadata": {
        "id": "0iaVO8hwM54m"
      }
    },
    {
      "cell_type": "code",
      "source": [
        "import pandas as pd\n",
        "\n",
        "dogs = pd.read_csv('ShelterDogs.csv', dtype={'coat':'category', 'likes_people':'category'})\n",
        "\n",
        "# Create the update_coats dictionary\n",
        "update_coats = {'wirehaired':'medium', 'medium-long':'medium'}\n",
        "\n",
        "# Create a new column, coat_collapsed\n",
        "dogs[\"coat_collapsed\"] = dogs[\"coat\"].replace(update_coats)\n",
        "\n",
        "# Convert the column to categorical (Not necessary in recent Pandas)\n",
        "dogs[\"coat_collapsed\"] = dogs[\"coat_collapsed\"].astype('category')\n",
        "\n",
        "# Print the frequency table\n",
        "print(dogs[\"coat_collapsed\"].value_counts())"
      ],
      "metadata": {
        "colab": {
          "base_uri": "https://localhost:8080/"
        },
        "id": "Z90_BwChLr0Y",
        "outputId": "8d56ce35-32c4-4e95-8805-1f711a6e3793"
      },
      "execution_count": 37,
      "outputs": [
        {
          "output_type": "stream",
          "name": "stdout",
          "text": [
            "short     1972\n",
            "medium     785\n",
            "long       180\n",
            "Name: coat_collapsed, dtype: int64\n"
          ]
        }
      ]
    },
    {
      "cell_type": "markdown",
      "source": [
        "# ***Reordering Categories***\n",
        "\n"
      ],
      "metadata": {
        "id": "V-UnILgbPMz7"
      }
    },
    {
      "cell_type": "code",
      "source": [
        "import pandas as pd\n",
        "\n",
        "dogs = pd.read_csv('ShelterDogs.csv', dtype={'coat':'category', 'likes_people':'category'})\n",
        "\n",
        "# Display by alphabetical order\n",
        "print(dogs.groupby('coat')['age'].mean(), \"\\n\")\n",
        "\n",
        "dogs[\"coat\"] = dogs[\"coat\"].cat.reorder_categories(new_categories=['short', 'medium', 'wirehaired', 'long'], ordered=True)\n",
        "\n",
        "# Display by order\n",
        "print(dogs.groupby('coat')['age'].mean(), '\\n')\n",
        "\n",
        "# Display by what we typed but don't make this category ordinal\n",
        "dogs[\"coat\"] = dogs[\"coat\"].cat.reorder_categories(new_categories=['wirehaired', 'medium', 'short', 'long'], ordered=True)\n",
        "print(dogs.groupby('coat')['age'].mean())"
      ],
      "metadata": {
        "colab": {
          "base_uri": "https://localhost:8080/"
        },
        "id": "8qNRKOrNNdO0",
        "outputId": "3694467c-b66e-4c59-c94b-0d5509e79128"
      },
      "execution_count": 47,
      "outputs": [
        {
          "output_type": "stream",
          "name": "stdout",
          "text": [
            "coat\n",
            "long          9.552056\n",
            "medium        9.027982\n",
            "short         8.364746\n",
            "wirehaired    8.424136\n",
            "Name: age, dtype: float64 \n",
            "\n",
            "coat\n",
            "short         8.364746\n",
            "medium        9.027982\n",
            "wirehaired    8.424136\n",
            "long          9.552056\n",
            "Name: age, dtype: float64 \n",
            "\n",
            "coat\n",
            "wirehaired    8.424136\n",
            "medium        9.027982\n",
            "short         8.364746\n",
            "long          9.552056\n",
            "Name: age, dtype: float64\n"
          ]
        }
      ]
    },
    {
      "cell_type": "markdown",
      "source": [
        "### ***Reordering categories in a Series***\n",
        "\n",
        "The owner of a local dog adoption agency has asked you take a look at her data on adoptable dogs. She is specifically interested in the size of the dogs in her dataset and wants to know if there are differences in other variables, given a dog's size. \n",
        "\n",
        "* Print out the current categories of the `\"size\"` pandas Series.\n",
        "* Reorder categories in the `\"size\"` column using the categories `\"small\"`, `\"medium\"`, `\"large\"`."
      ],
      "metadata": {
        "id": "UjatzdQlRMvY"
      }
    },
    {
      "cell_type": "code",
      "source": [
        "import pandas as pd\n",
        "\n",
        "dogs = pd.read_csv('ShelterDogs.csv', dtype={'coat':'category', 'likes_people':'category', 'size':'category'})\n",
        "\n",
        "# Reorder the categries, specifying the Series is ordinal\n",
        "dogs[\"size\"] = dogs[\"size\"].cat.reorder_categories(new_categories=[\"small\", \"medium\", \"large\"],  ordered=True)"
      ],
      "metadata": {
        "id": "qkgll38bPfGW"
      },
      "execution_count": 48,
      "outputs": []
    },
    {
      "cell_type": "markdown",
      "source": [
        "### ***Using .groupby() after reordering***\n",
        "\n",
        "It is now time to run some analyses on the adoptable dogs dataset that is focused on the `\"size\"` of the dog. You have already developed some code to reorder the categories. In this exercise, you will develop two similar GroupBy statements to help better understand the effect of `\"size\"` on other variables. \n",
        "\n",
        "\n",
        "* Print out the frequency table of `\"sex\"` for each category of the `\"size\"` column.\n",
        "* Print out the frequency table of `\"keep_in\"` for each category of the `\"size\"` column."
      ],
      "metadata": {
        "id": "KF2WHUM5So_U"
      }
    },
    {
      "cell_type": "code",
      "source": [
        "# How many Male/Female dogs are available of each size?\n",
        "print(dogs.groupby('size')['sex'].value_counts())\n",
        "\n",
        "# Do larger dogs need more room to roam?\n",
        "print(dogs.groupby('size')['keep_in'].value_counts(normalize=True))"
      ],
      "metadata": {
        "colab": {
          "base_uri": "https://localhost:8080/"
        },
        "id": "88kBbKtiSfpU",
        "outputId": "3ff268ff-a228-4fe9-9d85-4dfc242494ad"
      },
      "execution_count": 49,
      "outputs": [
        {
          "output_type": "stream",
          "name": "stdout",
          "text": [
            "size    sex   \n",
            "small   male       260\n",
            "        female     214\n",
            "medium  male      1090\n",
            "        female     854\n",
            "large   male       331\n",
            "        female     188\n",
            "Name: sex, dtype: int64\n",
            "size    keep_in             \n",
            "small   both flat and garden    0.702065\n",
            "        flat                    0.235988\n",
            "        garden                  0.061947\n",
            "medium  both flat and garden    0.657568\n",
            "        garden                  0.262200\n",
            "        flat                    0.080232\n",
            "large   both flat and garden    0.519022\n",
            "        garden                  0.467391\n",
            "        flat                    0.013587\n",
            "Name: keep_in, dtype: float64\n"
          ]
        }
      ]
    },
    {
      "cell_type": "markdown",
      "source": [
        "There are more medium male dogs than any other combination of size and sex. It also looks like larger dogs are more often kept outside, as opposed to a flat.\n",
        "\n",
        "# ***Fixing issues: whitespace***\n",
        "\n",
        "**`.str.strip()`**\n",
        "\n",
        "# ***Fixing issues: capitalization***\n",
        "\n",
        "**`.title()`** , **`.upper()`** , **`.lower()`**\n",
        "\n",
        "# ***Fixing issues: misspelled words***\n",
        "\n",
        "* Fixing a typo with **`.replace()`**\n",
        "\n",
        "```\n",
        "replace_map = {\"Noo\": \"No\"}\n",
        "dogs[\"get_along_cats\"].replace(replace_map, inplace=True)\n",
        "```\n",
        "\n",
        "# ***Searching for a string***\n",
        "\n",
        "```\n",
        "dogs[\"breed\"].str.contains(\"Shepherd\", regex=False)\n",
        "```"
      ],
      "metadata": {
        "id": "FZcjUq8ZUAei"
      }
    },
    {
      "cell_type": "code",
      "source": [
        "import pandas as pd\n",
        "\n",
        "dogs = pd.read_csv('ShelterDogs.csv', dtype={'coat':'category', 'likes_people':'category', 'size':'category'})\n",
        "\n",
        "dogs['get_along_cats'].value_counts(dropna=False)"
      ],
      "metadata": {
        "colab": {
          "base_uri": "https://localhost:8080/"
        },
        "id": "YYGjpUnzTlcz",
        "outputId": "7b935ec6-db65-4b87-aab8-bbd453394953"
      },
      "execution_count": 51,
      "outputs": [
        {
          "output_type": "execute_result",
          "data": {
            "text/plain": [
              "NaN    2506\n",
              "yes     275\n",
              "no      156\n",
              "Name: get_along_cats, dtype: int64"
            ]
          },
          "metadata": {},
          "execution_count": 51
        }
      ]
    },
    {
      "cell_type": "markdown",
      "source": [
        "### ***Cleaning variables***\n",
        "\n",
        "Users of an online entry system used to have the ability to freely type in responses to questions. This is causing issues when trying to analyze the adoptable dogs dataset, `dogs`. Here is the current frequency table of the `\"sex\"` column:\n",
        "\n",
        "```\n",
        "male      1672\n",
        "female    1249\n",
        " MALE        10\n",
        " FEMALE       5\n",
        "Malez        1\n",
        "```\n",
        "Now that the system only takes responses of `\"female\"` and `\"male\"`, you want this variable to match the updated system.\n",
        "\n",
        "* Update the misspelled response `\"Malez\"` to be `\"male\"` by creating the replacement map, `replace_map`.\n",
        "* Replace all occurrences of `\"Malez\"` with `\"male\"` by using `replace_map`.\n",
        "* Remove the leading spaces of the `\" MALE\"` and `\" FEMALE\"` responses.\n",
        "* Convert all responses to be strictly lowercase.\n",
        "* Convert the `\"sex\"` column to a categorical `pandas` Series."
      ],
      "metadata": {
        "id": "h6LEC7iLWu-E"
      }
    },
    {
      "cell_type": "code",
      "source": [
        "import pandas as pd\n",
        "\n",
        "dogs = pd.read_csv('ShelterDogs.csv', dtype={'coat':'category', 'likes_people':'category', 'size':'category', 'sex':'category'})\n",
        "\n",
        "# Fix the misspelled word\n",
        "replace_map = {\"Malez\": \"male\"}\n",
        "\n",
        "# Update the sex column using the created map\n",
        "dogs[\"sex\"] = dogs[\"sex\"].replace(replace_map)\n",
        "\n",
        "# Strip away leading whitespace\n",
        "dogs[\"sex\"] = dogs[\"sex\"].str.strip()\n",
        "\n",
        "# Make all responses lowercase\n",
        "dogs[\"sex\"] = dogs[\"sex\"].str.lower()\n",
        "\n",
        "# Convert to a categorical Series\n",
        "dogs[\"sex\"] = dogs[\"sex\"].astype('category')\n",
        "\n",
        "print(dogs[\"sex\"].value_counts())"
      ],
      "metadata": {
        "colab": {
          "base_uri": "https://localhost:8080/"
        },
        "id": "WcBeXHGGUw6J",
        "outputId": "1381e086-4072-4eb6-8e7f-6034fd8e397e"
      },
      "execution_count": 54,
      "outputs": [
        {
          "output_type": "stream",
          "name": "stdout",
          "text": [
            "male      1681\n",
            "female    1256\n",
            "Name: sex, dtype: int64\n"
          ]
        }
      ]
    },
    {
      "cell_type": "markdown",
      "source": [
        "### ***Accessing and filtering data***\n",
        "\n",
        "You are working on a Python application to display information about the dogs available for adoption at your local animal shelter. Some of the variables of interest, such as `\"breed\"`, `\"size\"`, and `\"coat\"`, are saved as categorical variables. In order for this application to work properly, you need to be able to access and filter data using these columns.\n",
        "\n",
        "The `ID` variable has been set as the index of the pandas DataFrame `dogs`.\n",
        "\n",
        "\n",
        "* Print the `\"coat\"` value for the dog with an `ID` of `23807`.\n",
        "\n",
        "* For dogs with a long `\"coat\"`, print the number of each `\"sex\"`.\n",
        "\n",
        "* Print the average age of dogs with a `\"breed\"` of `\"English Cocker Spaniel\"`.\n",
        "\n",
        "* Filter to the dogs with `\"English\"` in their `\"breed\"` name using the **`.contains()`** method."
      ],
      "metadata": {
        "id": "H6wFU7ASYw3o"
      }
    },
    {
      "cell_type": "code",
      "source": [
        "import pandas as pd\n",
        "\n",
        "dogs = pd.read_csv('ShelterDogs.csv', dtype={'coat':'category', 'breed':'category', 'size':'category', 'sex':'category'}, index_col='ID')\n",
        "\n",
        "# Print the category of the coat for ID 23807\n",
        "print(dogs.loc[dogs.index=='23807', 'coat'], \"\\n\")\n",
        "\n",
        "# Find the count of male and female dogs who have a \"long\" coat\n",
        "print(dogs.loc[dogs['coat']=='long', 'sex'].value_counts(), \"\\n\")\n",
        "\n",
        "# Print the mean age of dogs with a breed of \"English Cocker Spaniel\"\n",
        "print(dogs.loc[dogs['breed']=='English Cocker Spaniel', 'age'].mean(), \"\\n\")\n",
        "\n",
        "# Count the number of dogs that have \"English\" in their breed name\n",
        "print(dogs[dogs[\"breed\"].str.contains('English', regex=False)].shape[0])"
      ],
      "metadata": {
        "colab": {
          "base_uri": "https://localhost:8080/"
        },
        "id": "1kak3lQrYcZ1",
        "outputId": "106f1f12-5af2-4b4d-c7ed-71011ba2c1fd"
      },
      "execution_count": 59,
      "outputs": [
        {
          "output_type": "stream",
          "name": "stdout",
          "text": [
            "Series([], Name: coat, dtype: category\n",
            "Categories (4, object): ['long', 'medium', 'short', 'wirehaired']) \n",
            "\n",
            "male      124\n",
            "female     56\n",
            "Name: sex, dtype: int64 \n",
            "\n",
            "8.186153846153847 \n",
            "\n",
            "35\n"
          ]
        }
      ]
    },
    {
      "cell_type": "code",
      "source": [
        "import pandas as pd\n",
        "import seaborn as sns\n",
        "import matplotlib.pyplot as plt\n",
        "sns.set(rc={'figure.figsize':(11.7,8.27)})\n",
        "\n",
        "reviews = pd.read_csv('lasvegas_tripadvisor.csv')\n",
        "print(reviews[\"Score\"].value_counts())\n",
        "\n",
        "sns.set(font_scale=1.4)\n",
        "sns.set_style(\"whitegrid\")\n",
        "sns.catplot(x=\"Pool\", y=\"Score\", data=reviews, kind=\"box\")\n",
        "plt.show()\n",
        "\n",
        "sns.catplot(x=\"Traveler type\", y=\"Score\", data=reviews, kind=\"box\", height=8.27, aspect=11.7/8.27)\n",
        "plt.show()"
      ],
      "metadata": {
        "colab": {
          "base_uri": "https://localhost:8080/",
          "height": 1000
        },
        "id": "R3WgiPU8aKWR",
        "outputId": "4e86d665-9fab-4bab-b836-505f0b553282"
      },
      "execution_count": 72,
      "outputs": [
        {
          "output_type": "stream",
          "name": "stdout",
          "text": [
            "5    227\n",
            "4    164\n",
            "3     72\n",
            "2     30\n",
            "1     11\n",
            "Name: Score, dtype: int64\n"
          ]
        },
        {
          "output_type": "display_data",
          "data": {
            "image/png": "[encoded data removed]",
            "text/plain": [
              "<Figure size 360x360 with 1 Axes>"
            ]
          },
          "metadata": {}
        },
        {
          "output_type": "display_data",
          "data": {
            "image/png": "[encoded data removed]",
            "text/plain": [
              "<Figure size 842.4x595.44 with 1 Axes>"
            ]
          },
          "metadata": {}
        }
      ]
    },
    {
      "cell_type": "markdown",
      "source": [
        "### ***Creating a box plot***\n",
        "\n",
        "When people leave reviews for products, services, or destinations, people reading those reviews can sometimes mark the original review as helpful. If enough people mark the review as helpful, future readers of these reviews might be more likely to trust the content of the original review.\n",
        "\n",
        "Using the reviews dataset, explore the continuous variable `\"Helpful votes\"` across the different categories found in the `\"Traveler type\"` variable.\n",
        "\n",
        "\n",
        "* Set the font size of your graphic to be `1.25`.\n",
        "* Set the background of the graphic to be `\"darkgrid\"`.\n",
        "* Create a boxplot using **`catplot()`** with `\"Helpful votes\"` as the continuous variable split across each `\"Traveler type\"`. Make sure that you are using the `reviews` dataset."
      ],
      "metadata": {
        "id": "Oc4461K8uhRi"
      }
    },
    {
      "cell_type": "code",
      "source": [
        "import pandas as pd\n",
        "import seaborn as sns\n",
        "import matplotlib.pyplot as plt\n",
        "sns.set(rc={'figure.figsize':(11.7,8.27)})\n",
        "\n",
        "reviews = pd.read_csv('lasvegas_tripadvisor.csv')\n",
        "\n",
        "sns.set(font_scale=1.25)\n",
        "\n",
        "# Set the background to \"darkgrid\"\n",
        "sns.set_style('darkgrid')\n",
        "\n",
        "# Create a boxplot\n",
        "sns.catplot(x='Traveler type', y='Helpful votes', data=reviews, kind='box', height=8.27, aspect=11.7/8.27)\n",
        "\n",
        "plt.show()"
      ],
      "metadata": {
        "colab": {
          "base_uri": "https://localhost:8080/",
          "height": 594
        },
        "id": "iC9OMzYHtUKz",
        "outputId": "f5541a86-687f-4315-b024-541e32df7838"
      },
      "execution_count": 73,
      "outputs": [
        {
          "output_type": "display_data",
          "data": {
            "image/png": "[encoded data removed]",
            "text/plain": [
              "<Figure size 842.4x595.44 with 1 Axes>"
            ]
          },
          "metadata": {}
        }
      ]
    },
    {
      "cell_type": "markdown",
      "source": [
        "It looks like business travelers have left the most helpful reviews, although there are a few reviews by couples that have been really helpful to others."
      ],
      "metadata": {
        "id": "uAf8qPB6vpMh"
      }
    },
    {
      "cell_type": "code",
      "source": [
        "import pandas as pd\n",
        "import seaborn as sns\n",
        "import matplotlib.pyplot as plt\n",
        "sns.set(rc={'figure.figsize':(11.7,8.27)})\n",
        "\n",
        "reviews = pd.read_csv('lasvegas_tripadvisor.csv')\n",
        "\n",
        "sns.set(font_scale=1.25)\n",
        "sns.set_style('whitegrid')\n",
        "\n",
        "reviews[\"Traveler type\"].value_counts().plot.bar(figsize=(12,7))\n",
        "plt.show()\n",
        "\n",
        "freq = reviews[\"Traveler type\"].value_counts().reset_index()\n",
        "\n",
        "sns.catplot(y=\"Traveler type\", x=\"index\", data=freq, kind=\"bar\", height=8.27, aspect=11.7/8.27)\n",
        "plt.show()"
      ],
      "metadata": {
        "colab": {
          "base_uri": "https://localhost:8080/",
          "height": 1000
        },
        "id": "9j5auT7yvgwf",
        "outputId": "30810609-b096-4f06-95ca-5a0c9e988f92"
      },
      "execution_count": 8,
      "outputs": [
        {
          "output_type": "display_data",
          "data": {
            "image/png": "[encoded data removed]",
            "text/plain": [
              "<Figure size 864x504 with 1 Axes>"
            ]
          },
          "metadata": {}
        },
        {
          "output_type": "display_data",
          "data": {
            "image/png": "[encoded data removed]",
            "text/plain": [
              "<Figure size 842.4x595.44 with 1 Axes>"
            ]
          },
          "metadata": {}
        }
      ]
    },
    {
      "cell_type": "code",
      "source": [
        "sns.catplot(x=\"Traveler type\", y=\"Score\", data=reviews, kind=\"bar\", height=8.27, aspect=11.7/8.27)\n",
        "plt.show()"
      ],
      "metadata": {
        "colab": {
          "base_uri": "https://localhost:8080/",
          "height": 594
        },
        "id": "4gQhN2a6XfuH",
        "outputId": "ffe3af67-d9ff-4f12-b5f0-451ead664478"
      },
      "execution_count": 10,
      "outputs": [
        {
          "output_type": "display_data",
          "data": {
            "image/png": "[encoded data removed]",
            "text/plain": [
              "<Figure size 842.4x595.44 with 1 Axes>"
            ]
          },
          "metadata": {}
        }
      ]
    },
    {
      "cell_type": "markdown",
      "source": [
        "* เส้นสีดำ แสดงถึง ช่วงความเชื่อมั่น\n",
        "\n",
        "# ***Ordering your categories***\n",
        "\n",
        "* ควรทำก่อน plot"
      ],
      "metadata": {
        "id": "o-Y7W_jIfrq-"
      }
    },
    {
      "cell_type": "code",
      "source": [
        "reviews[\"Traveler type\"] = pd.Categorical(reviews[\"Traveler type\"], categories=['Friends', 'Couples', 'Families', 'Solo', 'Business'], ordered=False)\n",
        "reviews[\"Traveler type\"].cat.categories\n",
        "\n",
        "sns.catplot(x=\"Traveler type\", y=\"Score\", data=reviews, kind=\"bar\", height=8.27, aspect=11.7/8.27)\n",
        "plt.show()"
      ],
      "metadata": {
        "colab": {
          "base_uri": "https://localhost:8080/",
          "height": 594
        },
        "id": "xoC_anPNYcmU",
        "outputId": "00be2f9c-a117-472e-a054-a88b9931a90a"
      },
      "execution_count": 14,
      "outputs": [
        {
          "output_type": "display_data",
          "data": {
            "image/png": "[encoded data removed]",
            "text/plain": [
              "<Figure size 842.4x595.44 with 1 Axes>"
            ]
          },
          "metadata": {}
        }
      ]
    },
    {
      "cell_type": "markdown",
      "source": [
        "# ***The `hue` parameter***\n",
        "\n",
        "* Split the data by a second category\n",
        "  * สมมติอยากพล็อตให้แกนนอนเป็น `Traveler Type` แกนตั้งเป็น `Score` และ `hue` เป็น `Tennis court`"
      ],
      "metadata": {
        "id": "9_UXzPdFhUyS"
      }
    },
    {
      "cell_type": "code",
      "source": [
        "sns.set(font_scale=1.2)\n",
        "sns.set_style(\"darkgrid\")\n",
        "sns.catplot(x=\"Traveler type\", y=\"Score\", data=reviews, kind=\"bar\", hue=\"Tennis court\", height=8.27, aspect=11.7/8.27)\n",
        "plt.show()"
      ],
      "metadata": {
        "colab": {
          "base_uri": "https://localhost:8080/",
          "height": 595
        },
        "id": "F-R_Hh_mgF21",
        "outputId": "c3a29d0e-c467-4adc-cee0-618a81392e09"
      },
      "execution_count": 15,
      "outputs": [
        {
          "output_type": "display_data",
          "data": {
            "image/png": "[encoded data removed]",
            "text/plain": [
              "<Figure size 940.085x595.44 with 1 Axes>"
            ]
          },
          "metadata": {}
        }
      ]
    },
    {
      "cell_type": "markdown",
      "source": [
        "### ***Creating a bar plot***\n",
        "\n",
        "Las Vegas hotels are seeing large variations in how helpful reviews appear to other people. The owners of these hotels are curious if there are times of the year when reviews have been more helpful to their potential guests. Help the owners understand their reviews better by creating a bar plot of the average number of helpful votes per review across the categorical variable `\"Period of stay\"`. \n",
        "\n",
        "* Print out the frequency counts of the variable `\"Period of stay\"` to make sure each category has data.\n",
        "* Create a bar plot using **`.catplot()`**.\n",
        "* Split the reviews dataset on `\"Period of stay\"` across the x-axis.\n",
        "* Specify the numerical variable to aggregate on as `\"Helpful votes\"`."
      ],
      "metadata": {
        "id": "IpsottXsiRmQ"
      }
    },
    {
      "cell_type": "code",
      "source": [
        "import pandas as pd\n",
        "import seaborn as sns\n",
        "import matplotlib.pyplot as plt\n",
        "\n",
        "reviews = pd.read_csv('lasvegas_tripadvisor.csv')\n",
        "\n",
        "# Print the frequency counts of \"Period of stay\"\n",
        "print(reviews['Period of stay'].value_counts())\n",
        "\n",
        "sns.set(font_scale=1.4)\n",
        "sns.set_style(\"whitegrid\")\n",
        "\n",
        "# Create a bar plot of \"Helpful votes\" by \"Period of stay\"\n",
        "sns.catplot(x='Period of stay', y='Helpful votes', data=reviews, kind='bar', height=8.27, aspect=11.7/8.27)\n",
        "plt.show()"
      ],
      "metadata": {
        "colab": {
          "base_uri": "https://localhost:8080/",
          "height": 681
        },
        "id": "AovvxJ2iiErE",
        "outputId": "440c4619-18f2-42db-e77f-fe5de820ae6e"
      },
      "execution_count": 16,
      "outputs": [
        {
          "output_type": "stream",
          "name": "stdout",
          "text": [
            "Mar-May    128\n",
            "Jun-Aug    126\n",
            "Sep-Nov    126\n",
            "Dec-Feb    124\n",
            "Name: Period of stay, dtype: int64\n"
          ]
        },
        {
          "output_type": "display_data",
          "data": {
            "image/png": "[encoded data removed]",
            "text/plain": [
              "<Figure size 842.4x595.44 with 1 Axes>"
            ]
          },
          "metadata": {}
        }
      ]
    },
    {
      "cell_type": "markdown",
      "source": [
        "It also looks like potential guests find reviews from December-February to be the most helpful, while reviews from September-November appear to be the least helpful.\n",
        "\n",
        "### ***Ordering categories***\n",
        "\n",
        "Not all categories are created equal. In the hotel review dataset, `reviews`, hotel owners know that most of their customers are from North America. When visualizing data broken out by `\"User continent\"` they might want North America to appear first. An ordered list of user continents has been provided as `continent_categories`. In this exercise, you will work through preparing a visualization that is ordered by the frequency counts of a Series.\n",
        "\n",
        "* Create a bar chart with `\"User continent\"` along the x-axis and `\"Score\"` along the y-axis.\n",
        "* Print out the frequency counts of `\"User continent\"`.\n",
        "* Convert the `\"User continent\"` Series to a categorical and create a bar plot with `\"User continent\"` along the x-axis.\n",
        "* Reorder the `\"User continent\"` Series using the `ordered` list, `continent_categories`, and rerun the graphic."
      ],
      "metadata": {
        "id": "DaBiqr90jK3L"
      }
    },
    {
      "cell_type": "code",
      "source": [
        "import pandas as pd\n",
        "import seaborn as sns\n",
        "import matplotlib.pyplot as plt\n",
        "\n",
        "reviews = pd.read_csv('lasvegas_tripadvisor.csv')\n",
        "\n",
        "# Create a bar chart\n",
        "sns.set(font_scale=.9)\n",
        "sns.set_style(\"whitegrid\")\n",
        "sns.catplot(x='User continent', y='Score', data=reviews, kind='bar')\n",
        "plt.show()\n",
        "\n",
        "# Print the frequency counts for \"User continent\"\n",
        "print(reviews['User continent'].value_counts())\n",
        "\n",
        "# Convert \"User continent\" to a categorical variable\n",
        "reviews[\"User continent\"] = reviews[\"User continent\"].astype('category')\n",
        "sns.catplot(x='User continent', y=\"Score\", data=reviews, kind=\"bar\", height=8.27, aspect=11.7/8.27)\n",
        "plt.show()\n",
        "\n",
        "# Reorder \"User continent\" using continent_categories and rerun the graphic\n",
        "continent_categories = list(reviews[\"User continent\"].value_counts().index)\n",
        "reviews[\"User continent\"] = reviews[\"User continent\"].cat.reorder_categories(new_categories=continent_categories)\n",
        "sns.catplot(x=\"User continent\", y=\"Score\", data=reviews, kind=\"bar\", height=8.27, aspect=11.7/8.27)\n",
        "plt.show()"
      ],
      "metadata": {
        "colab": {
          "base_uri": "https://localhost:8080/",
          "height": 1000
        },
        "id": "igga6EuzjBf9",
        "outputId": "8515657b-5525-42ba-b7d9-ae071df5e565"
      },
      "execution_count": 23,
      "outputs": [
        {
          "output_type": "display_data",
          "data": {
            "image/png": "[encoded data removed]",
            "text/plain": [
              "<Figure size 360x360 with 1 Axes>"
            ]
          },
          "metadata": {}
        },
        {
          "output_type": "stream",
          "name": "stdout",
          "text": [
            "North America    295\n",
            "Europe           118\n",
            "Oceania           41\n",
            "Asia              36\n",
            "Africa             7\n",
            "South America      7\n",
            "Name: User continent, dtype: int64\n"
          ]
        },
        {
          "output_type": "display_data",
          "data": {
            "image/png": "[encoded data removed]",
            "text/plain": [
              "<Figure size 842.4x595.44 with 1 Axes>"
            ]
          },
          "metadata": {}
        },
        {
          "output_type": "display_data",
          "data": {
            "image/png": "[encoded data removed]",
            "text/plain": [
              "<Figure size 842.4x595.44 with 1 Axes>"
            ]
          },
          "metadata": {}
        }
      ]
    },
    {
      "cell_type": "markdown",
      "source": [
        "Notice that the confidence intervals are smaller for continents with more reviews.\n",
        "\n",
        "### ***Bar plot using hue***\n",
        "\n",
        "Aggregating information across multiple categories is often necessary to help stakeholders better understand their data. In preparation for building a dashboard that will allow users to select up to two variables when creating visualizations, you want to test visualizations that use different combinations of categorical variables using a bar plot.\n",
        "\n",
        "* Update the plot so that `\"Casino\"` (along the x-axis) and `\"Free internet\"` (to color the bars) are used to split the data.\n",
        "* Switch the categories so that `\"Free internet\"` is on the x-axis and `\"Casino\"` is in the legend.\n",
        "* Update the x parameter to be `\"User continent\"`."
      ],
      "metadata": {
        "id": "kj0Awezompzg"
      }
    },
    {
      "cell_type": "code",
      "source": [
        "import pandas as pd\n",
        "import seaborn as sns\n",
        "import matplotlib.pyplot as plt\n",
        "\n",
        "reviews = pd.read_csv('lasvegas_tripadvisor.csv')\n",
        "\n",
        "# Add a second category to split the data on: \"Free internet\"\n",
        "sns.set(font_scale=2)\n",
        "sns.set_style(\"darkgrid\")\n",
        "sns.catplot(x='Casino', y=\"Score\", data=reviews, kind=\"bar\", hue='Free internet', height=8.27, aspect=11.7/8.27)\n",
        "plt.show()\n",
        "\n",
        "\n",
        "# Switch the x and hue categories\n",
        "sns.set(font_scale=2)\n",
        "sns.set_style(\"darkgrid\")\n",
        "sns.catplot(x='Free internet', y=\"Score\", data=reviews, kind=\"bar\", hue='Casino', height=8.27, aspect=11.7/8.27)\n",
        "plt.show()\n",
        "\n",
        "# Update x to be \"User continent\"\n",
        "sns.set(font_scale=2)\n",
        "sns.set_style(\"darkgrid\")\n",
        "sns.catplot(x='User continent', y=\"Score\", data=reviews, kind=\"bar\", hue=\"Casino\", height=8.27, aspect=11.7/8.27)\n",
        "plt.show()\n",
        "\n",
        "\n",
        "\n",
        "\n",
        "\n"
      ],
      "metadata": {
        "colab": {
          "base_uri": "https://localhost:8080/",
          "height": 1000
        },
        "id": "7JCtA-V6l1dt",
        "outputId": "78a0d323-f892-47ee-b193-7c35147bf77f"
      },
      "execution_count": 24,
      "outputs": [
        {
          "output_type": "display_data",
          "data": {
            "image/png": "[encoded data removed]",
            "text/plain": [
              "<Figure size 1013.5x595.44 with 1 Axes>"
            ]
          },
          "metadata": {}
        },
        {
          "output_type": "display_data",
          "data": {
            "image/png": "[encoded data removed]",
            "text/plain": [
              "<Figure size 962.85x595.44 with 1 Axes>"
            ]
          },
          "metadata": {}
        },
        {
          "output_type": "display_data",
          "data": {
            "image/png": "[encoded data removed]",
            "text/plain": [
              "<Figure size 962.85x595.44 with 1 Axes>"
            ]
          },
          "metadata": {}
        }
      ]
    },
    {
      "cell_type": "markdown",
      "source": [
        "# ***Point plot example***"
      ],
      "metadata": {
        "id": "Uiyi8T0OFEL1"
      }
    },
    {
      "cell_type": "code",
      "source": [
        "import pandas as pd\n",
        "import seaborn as sns\n",
        "import matplotlib.pyplot as plt\n",
        "\n",
        "reviews = pd.read_csv('lasvegas_tripadvisor.csv')\n",
        "\n",
        "sns.catplot(x=\"Pool\", y=\"Score\", data=reviews, kind=\"bar\")\n",
        "sns.catplot(x=\"Pool\", y=\"Score\", data=reviews, kind=\"point\")\n",
        "plt.show()"
      ],
      "metadata": {
        "colab": {
          "base_uri": "https://localhost:8080/",
          "height": 713
        },
        "id": "BoziXQmPn_31",
        "outputId": "52e468c2-1031-4e84-8fc6-62da5edcd397"
      },
      "execution_count": 5,
      "outputs": [
        {
          "output_type": "display_data",
          "data": {
            "image/png": "[encoded data removed]",
            "text/plain": [
              "<Figure size 360x360 with 1 Axes>"
            ]
          },
          "metadata": {}
        },
        {
          "output_type": "display_data",
          "data": {
            "image/png": "[encoded data removed]",
            "text/plain": [
              "<Figure size 360x360 with 1 Axes>"
            ]
          },
          "metadata": {}
        }
      ]
    },
    {
      "cell_type": "markdown",
      "source": [
        "# ***Point plot with hue***"
      ],
      "metadata": {
        "id": "j1gwt63hITbM"
      }
    },
    {
      "cell_type": "code",
      "source": [
        "sns.catplot(x=\"Spa\", y=\"Score\", data=reviews, kind=\"bar\", hue=\"Tennis court\")\n",
        "sns.catplot(x=\"Spa\", y=\"Score\", data=reviews, kind=\"point\", hue=\"Tennis court\", dodge=True)\n",
        "plt.show()"
      ],
      "metadata": {
        "colab": {
          "base_uri": "https://localhost:8080/",
          "height": 713
        },
        "id": "uj23DLDlFkej",
        "outputId": "0b819c03-ce1b-4591-c269-7f9b766d128a"
      },
      "execution_count": 10,
      "outputs": [
        {
          "output_type": "display_data",
          "data": {
            "image/png": "[encoded data removed]",
            "text/plain": [
              "<Figure size 441.55x360 with 1 Axes>"
            ]
          },
          "metadata": {}
        },
        {
          "output_type": "display_data",
          "data": {
            "image/png": "[encoded data removed]",
            "text/plain": [
              "<Figure size 441.55x360 with 1 Axes>"
            ]
          },
          "metadata": {}
        }
      ]
    },
    {
      "cell_type": "markdown",
      "source": [
        "# ***Using the join parameter***"
      ],
      "metadata": {
        "id": "McbzfXPFKo63"
      }
    },
    {
      "cell_type": "code",
      "source": [
        "reviews['Review weekday'] = reviews['Review weekday'].astype('category')\n",
        "reviews['Review weekday'] = reviews['Review weekday'].cat.reorder_categories(new_categories=['Monday', 'Tuesday', 'Wednesday', 'Thursday', 'Friday', 'Saturday', 'Sunday'])\n",
        "\n",
        "sns.catplot(y=\"Score\", x=\"Review weekday\", data=reviews, kind=\"point\", join=False, height=8.27, aspect=11.7/8.27)\n",
        "plt.show()"
      ],
      "metadata": {
        "colab": {
          "base_uri": "https://localhost:8080/",
          "height": 600
        },
        "id": "IrFTy5-7IhDX",
        "outputId": "7ddb673c-9517-4f1a-92f8-18db69105bfd"
      },
      "execution_count": 15,
      "outputs": [
        {
          "output_type": "display_data",
          "data": {
            "image/png": "[encoded data removed]",
            "text/plain": [
              "<Figure size 842.4x595.44 with 1 Axes>"
            ]
          },
          "metadata": {}
        }
      ]
    },
    {
      "cell_type": "markdown",
      "source": [
        "# ***Count plot*** มันคือการเอา **`.value_counts()`** มาพล็อต"
      ],
      "metadata": {
        "id": "lwEjzB7mMDu-"
      }
    },
    {
      "cell_type": "code",
      "source": [
        "sns.catplot(x=\"Traveler type\", data=reviews, kind=\"count\", order= ['Couples', 'Families', 'Friends', 'Business', 'Solo'], hue=\"Spa\")\n",
        "plt.show()"
      ],
      "metadata": {
        "colab": {
          "base_uri": "https://localhost:8080/",
          "height": 365
        },
        "id": "gzrp76EYK2gn",
        "outputId": "acd29402-3a29-4398-b234-18e30c9abe85"
      },
      "execution_count": 23,
      "outputs": [
        {
          "output_type": "display_data",
          "data": {
            "image/png": "[encoded data removed]",
            "text/plain": [
              "<Figure size 420.35x360 with 1 Axes>"
            ]
          },
          "metadata": {}
        }
      ]
    },
    {
      "cell_type": "markdown",
      "source": [
        "### ***Creating a point plot***\n",
        "\n",
        "Creating helpful visualizations sometimes requires a lot of testing. You have been asked to create a visualization that shows the number of reviews, `\"Nr. reviews\"`, which is the number of reviews a reviewer has previously written, across a hotel's star rating, `\"Hotel stars\"`. Since the number of reviews is numerical, you have decided to use a point plot to show the mean of the data across the categories.\n",
        "\n",
        "\n",
        "* Using the **`catplot()`** function, create a point plot.\n",
        "* Split the data across the x-axis using `\"Hotel stars\"`.\n",
        "* Specify the numerical variable to visualize to `\"Nr. reviews\"`.\n",
        "* Update the arguments so that any lines that appear do not overlap."
      ],
      "metadata": {
        "id": "ZAZMTDs1NxB5"
      }
    },
    {
      "cell_type": "code",
      "source": [
        "import pandas as pd\n",
        "import seaborn as sns\n",
        "import matplotlib.pyplot as plt\n",
        "\n",
        "reviews = pd.read_csv('lasvegas_tripadvisor.csv')\n",
        "\n",
        "# Create a point plot with catplot using \"Hotel stars\" and \"Nr. reviews\"\n",
        "sns.catplot(x='Hotel stars', y='Nr. reviews', data=reviews, kind='point',  hue=\"Pool\",  dodge=True)\n",
        "plt.show()"
      ],
      "metadata": {
        "colab": {
          "base_uri": "https://localhost:8080/",
          "height": 365
        },
        "id": "3rUynKAHMoJw",
        "outputId": "672e55cb-6a66-4deb-8ef8-a26cef00e866"
      },
      "execution_count": 24,
      "outputs": [
        {
          "output_type": "display_data",
          "data": {
            "image/png": "[encoded data removed]",
            "text/plain": [
              "<Figure size 420.35x360 with 1 Axes>"
            ]
          },
          "metadata": {}
        }
      ]
    },
    {
      "cell_type": "markdown",
      "source": [
        "Although it is great to see big differences in the average number of previous reviews across the different hotel star ratings for hotels with a pool, there aren't enough 4 and 5 star hotels without a pool to display any information. We might want to find a different category for the hue parameter here or just show the `'Nr. of reviews'` across the different hotel star ratings."
      ],
      "metadata": {
        "id": "m86TL3F8PNsF"
      }
    },
    {
      "cell_type": "code",
      "source": [
        "sns.catplot(x='Hotel stars', y='Nr. reviews', data=reviews, kind='point',  dodge=True)\n",
        "plt.show()"
      ],
      "metadata": {
        "colab": {
          "base_uri": "https://localhost:8080/",
          "height": 365
        },
        "id": "NN1om3CPOzL3",
        "outputId": "b1eb74bf-e47b-4f30-9a8f-4d8d58f49b91"
      },
      "execution_count": 25,
      "outputs": [
        {
          "output_type": "display_data",
          "data": {
            "image/png": "[encoded data removed]",
            "text/plain": [
              "<Figure size 360x360 with 1 Axes>"
            ]
          },
          "metadata": {}
        }
      ]
    },
    {
      "cell_type": "markdown",
      "source": [
        "### ***Creating a count plot***\n",
        "\n",
        "When creating quick analysis of frequency counts, you have been using **`.value_counts()`**. This is a great way for you to see the counts and get an idea of which categories are present in the data. However, sending frequency tables to clients or coworkers may not always be a good idea. For this exercise, you will visualize the number of reviews by their `\"Score\"`. Although `\"Score\"` has been used as a numerical variable in the past, it can be used as a categorical variable given that it has five unique values that are ordered from worst to best. The reviews dataset has been preloaded.\n",
        "\n",
        "* Use the **`catplot()`** function to display count frequencies using the `reviews` dataset.\n",
        "* Count the frequencies for the `\"Score\"` variable across the x-axis.\n",
        "* When counting the frequencies, color the bars using the `\"Traveler type\"` column."
      ],
      "metadata": {
        "id": "Hg0f-WqZPbzu"
      }
    },
    {
      "cell_type": "code",
      "source": [
        "import pandas as pd\n",
        "import seaborn as sns\n",
        "import matplotlib.pyplot as plt\n",
        "\n",
        "reviews = pd.read_csv('lasvegas_tripadvisor.csv')\n",
        "\n",
        "sns.set(font_scale=1.4)\n",
        "sns.set_style(\"darkgrid\")\n",
        "\n",
        "# Create a catplot that will count the frequency of \"Score\" across \"Traveler type\"\n",
        "sns.catplot(\n",
        "  x='Score', kind='count', hue='Traveler type', data=reviews\n",
        ")\n",
        "plt.show()"
      ],
      "metadata": {
        "colab": {
          "base_uri": "https://localhost:8080/",
          "height": 355
        },
        "id": "mFkn87zDPUcW",
        "outputId": "d6deee06-1ddb-4733-999e-baf98d706ecb"
      },
      "execution_count": 26,
      "outputs": [
        {
          "output_type": "display_data",
          "data": {
            "image/png": "[encoded data removed]",
            "text/plain": [
              "<Figure size 483.44x360 with 1 Axes>"
            ]
          },
          "metadata": {}
        }
      ]
    },
    {
      "cell_type": "markdown",
      "source": [
        "The couples Traveler type and a score of 5 were the most common values found in the data. \n",
        "\n",
        "# ***Using the `catplot()` facetgrid***"
      ],
      "metadata": {
        "id": "JPUOZtFdRL7w"
      }
    },
    {
      "cell_type": "code",
      "source": [
        "import pandas as pd\n",
        "import seaborn as sns\n",
        "import matplotlib.pyplot as plt\n",
        "\n",
        "reviews = pd.read_csv('lasvegas_tripadvisor.csv')\n",
        "\n",
        "sns.set(font_scale=1.4)\n",
        "sns.set_style(\"darkgrid\")\n",
        "\n",
        "ax = sns.catplot(x=\"Traveler type\", kind=\"count\", col=\"User continent\", col_wrap=3, palette=sns.color_palette(\"Set1\"), data=reviews)\n",
        "ax.fig.suptitle(\"Hotel Score by Traveler Type & User Continent\")\n",
        "ax.set_axis_labels(\"Traveler Type\", \"Number of Reviews\")\n",
        "plt.subplots_adjust(top=.9)\n",
        "plt.show()"
      ],
      "metadata": {
        "colab": {
          "base_uri": "https://localhost:8080/",
          "height": 718
        },
        "id": "6oUU5K3QRCJM",
        "outputId": "c93679db-6770-4aec-cd25-c5eed3361578"
      },
      "execution_count": 3,
      "outputs": [
        {
          "output_type": "display_data",
          "data": {
            "image/png": "[encoded data removed]",
            "text/plain": [
              "<Figure size 1080x720 with 6 Axes>"
            ]
          },
          "metadata": {}
        }
      ]
    },
    {
      "cell_type": "markdown",
      "source": [
        "### ***One visualization per group***\n",
        "\n",
        "While working on a data exploration project, you have been asked to visualize the number of reviews of hotels by `\"Period of stay\"` and by the day of the week, `\"Review weekday\"`. The goal of this visualization is to see what day of the week has the most reviews for each of the four periods of stay. \n",
        "\n",
        "* Create a `catplot()` using `\"count\"` as the type of graphic.\n",
        "* Count the number of `reviews` by `\"Review weekday\"`.\n",
        "* Create individual plots for each `\"Period of stay\"`.\n",
        "* Wrap the plots after every 2nd graphic."
      ],
      "metadata": {
        "id": "FpwmdBZKogqo"
      }
    },
    {
      "cell_type": "code",
      "source": [
        "import pandas as pd\n",
        "import seaborn as sns\n",
        "import matplotlib.pyplot as plt\n",
        "\n",
        "reviews = pd.read_csv('lasvegas_tripadvisor.csv')\n",
        "\n",
        "reviews['Review weekday'] = reviews['Review weekday'].astype('category')\n",
        "reviews['Review weekday'] = reviews['Review weekday'].cat.reorder_categories(new_categories=['Monday', 'Tuesday', 'Wednesday', 'Thursday', 'Friday', 'Saturday', 'Sunday'])\n",
        "\n",
        "# Create a catplot for each \"Period of stay\" broken down by \"Review weekday\"\n",
        "ax = sns.catplot(\n",
        "  # Make sure Review weekday is along the x-axis\n",
        "  x='Review weekday',\n",
        "  # Specify Period of stay as the column to create individual graphics for\n",
        "  col='Period of stay',\n",
        "  # Specify that a count plot should be created\n",
        "  kind='count',\n",
        "  # Wrap the plots after every 2nd graphic.\n",
        "  col_wrap=2,\n",
        "  data=reviews, height=8.27, aspect=11.7/8.27)\n",
        "\n",
        "plt.show()"
      ],
      "metadata": {
        "colab": {
          "base_uri": "https://localhost:8080/",
          "height": 805
        },
        "id": "MIhAQtC4m-Z9",
        "outputId": "b2530e6a-b63f-4f18-d74f-46d892b140b6"
      },
      "execution_count": 6,
      "outputs": [
        {
          "output_type": "display_data",
          "data": {
            "image/png": "[encoded data removed]",
            "text/plain": [
              "<Figure size 1684.8x1190.88 with 4 Axes>"
            ]
          },
          "metadata": {}
        }
      ]
    },
    {
      "cell_type": "markdown",
      "source": [
        "Did you notice that Tuesday was the most common review day for December through May, but one of the least common days for June through November?\n",
        "\n",
        "### ***Updating categorical plots***\n",
        "\n",
        "Hotels are constantly working to get better reviews from their customers. A hotel chain has asked you to create visualizations to help the company understand why people might provide various ratings after staying at their hotels. A manager has asked if hotels with `\"Free internet\"` receive higher reviews given the `\"Traveler type\"`.\n",
        "\n",
        "Creating visualizations is an iterative process. In this exercise, you will start with a basic graphic and iteratively add features until you have a finished product. \n",
        "\n",
        "* Adjust the color of the plot to be seaborn's `\"Set2\"` palette.\n",
        "* Add the title `\"Hotel Score by Traveler Type and Free Internet Access\"`\n",
        "* Update the axis labels to be `\"Free Internet\"` for the x-axis and `\"Average Review Rating\"` for the y-axis.\n",
        "* Adjust the starting height of the graphic to be 93% of the full visualization height."
      ],
      "metadata": {
        "id": "eubJ1Rftp72k"
      }
    },
    {
      "cell_type": "code",
      "source": [
        "import pandas as pd\n",
        "import seaborn as sns\n",
        "import matplotlib.pyplot as plt\n",
        "\n",
        "reviews = pd.read_csv('lasvegas_tripadvisor.csv')\n",
        "\n",
        "# Adjust the color\n",
        "ax = sns.catplot(\n",
        "  x=\"Free internet\", y=\"Score\",\n",
        "  hue=\"Traveler type\", kind=\"bar\",\n",
        "  data=reviews,\n",
        "  palette=sns.color_palette(\"Set2\")\n",
        ")\n",
        "\n",
        "# Add a title\n",
        "ax.fig.suptitle(\"Hotel Score by Traveler Type and Free Internet Access\")\n",
        "# Update the axis labels\n",
        "ax.set_axis_labels(\"Free Internet\", \"Average Review Rating\")\n",
        "\n",
        "# Adjust the starting height of the graphic\n",
        "plt.subplots_adjust(top=0.93)\n",
        "plt.show()"
      ],
      "metadata": {
        "colab": {
          "base_uri": "https://localhost:8080/",
          "height": 366
        },
        "id": "RYoSwRHVpVOo",
        "outputId": "6ffd6156-0d97-44ad-f806-f3e25753fa88"
      },
      "execution_count": 7,
      "outputs": [
        {
          "output_type": "display_data",
          "data": {
            "image/png": "[encoded data removed]",
            "text/plain": [
              "<Figure size 483.44x360 with 1 Axes>"
            ]
          },
          "metadata": {}
        }
      ]
    },
    {
      "cell_type": "markdown",
      "source": [
        "It looks like free internet really makes a difference, especially for business-related travelers.\n",
        "\n",
        "### ***Overcoming pitfalls: string issues***\n",
        "\n",
        "* Print the frequency table of the `\"body_type\"` column for `used_cars` and include `NaN` values.\n",
        "* Update the `.loc` statement so that all `NaN` values in `\"body_type\"` are set to `\"other\"`.\n",
        "* Convert the `\"body_type\"` column to title case.\n",
        "* Check the dtype of the `\"body_type\"` column."
      ],
      "metadata": {
        "id": "nIAfbYaureyb"
      }
    },
    {
      "cell_type": "code",
      "source": [
        "import pandas as pd\n",
        "\n",
        "used_cars = pd.read_csv('cars.csv')\n",
        "\n",
        "# Print the frequency table of body_type and include NaN values\n",
        "print(used_cars[\"body_type\"].value_counts(dropna=False))\n",
        "\n",
        "# Update NaN values\n",
        "used_cars.loc[used_cars[\"body_type\"].isna(), \"body_type\"] = \"other\"\n",
        "\n",
        "# Convert body_type to title case\n",
        "used_cars[\"body_type\"] = used_cars[\"body_type\"].str.title()\n",
        "\n",
        "# Check the dtype\n",
        "print(used_cars[\"body_type\"].dtype)"
      ],
      "metadata": {
        "colab": {
          "base_uri": "https://localhost:8080/"
        },
        "id": "MYmQN3e_rRaV",
        "outputId": "e9c10d4a-5668-48b4-9ee1-2a00e2316a5e"
      },
      "execution_count": 8,
      "outputs": [
        {
          "output_type": "stream",
          "name": "stdout",
          "text": [
            "sedan        5886\n",
            "hatchback    4969\n",
            "universal    3772\n",
            "minivan      2693\n",
            "suv          2031\n",
            "minibus       916\n",
            "van           423\n",
            "coupe         248\n",
            "liftback      235\n",
            "pickup         72\n",
            "cabriolet      30\n",
            "limousine       2\n",
            "Name: body_type, dtype: int64\n",
            "object\n"
          ]
        }
      ]
    },
    {
      "cell_type": "markdown",
      "source": [
        "Categorical Series can be tricky. When in doubt, check the changes you have made and convert back to a categorical Series if needed.\n",
        "\n",
        "### ***Overcoming pitfalls: using numpy arrays***\n",
        "\n",
        "A local used car company manually appraises each car that they add to their inventory. When a new car comes in, they select from a drop-down menu, giving the car a rating between 1 and 5. A 1 means that the car probably won't sell as is, but a 5 indicates the car will definitely sell without a problem.\n",
        "\n",
        "With over 38,000 cars in their inventory, the company has asked you to give them an average \"sellability\" of their cars. For this exercise, use the `used_cars` dataset. The column of interest is called `\"Sale Rating\"` and it is currently a categorical column.\n",
        "\n",
        "\n",
        "* Print the frequency table of the `\"Sale Rating\"` column of the `used_cars` dataset.\n",
        "* Correct the second statement by converting the column to type `int` before calling `.mean()`."
      ],
      "metadata": {
        "id": "Js-Sfd_tyr7I"
      }
    },
    {
      "cell_type": "code",
      "source": [
        "#### DON'T RUN.  THIS ONE IS STRAIGTFORWARD SO I DIDN'T COPY THE DATA.\n",
        "\n",
        "# Print the frequency table of Sale Rating\n",
        "print(used_cars[\"Sale Rating\"].value_counts())\n",
        "\n",
        "# Find the average score\n",
        "average_score = used_cars[\"Sale Rating\"].astype('int').mean()\n",
        "\n",
        "# Print the average\n",
        "print(average_score)"
      ],
      "metadata": {
        "id": "B6u34ul4zp_u"
      },
      "execution_count": null,
      "outputs": []
    },
    {
      "cell_type": "markdown",
      "source": [
        "# ***Label encoding***\n",
        "\n",
        "* Codes each category as an integer from `0` through `n - 1`, where `n` is the number of categories\n",
        "* A `-1` code is reserved for any missing values\n",
        "\n",
        "# ***Creating a code book***\n",
        "\n"
      ],
      "metadata": {
        "id": "PXGqp-BRdOZK"
      }
    },
    {
      "cell_type": "code",
      "source": [
        "import pandas as pd\n",
        "\n",
        "used_cars = pd.read_csv('cars.csv')\n",
        "\n",
        "used_cars['manufacturer_name'] = used_cars['manufacturer_name'].astype('category')\n",
        "codes = used_cars['manufacturer_name'].cat.codes\n",
        "categories = used_cars['manufacturer_name']\n",
        "name_map = dict(zip(codes, categories))\n",
        "print(name_map)"
      ],
      "metadata": {
        "colab": {
          "base_uri": "https://localhost:8080/"
        },
        "id": "IiBIlfYFdRFj",
        "outputId": "fbb8f3ed-24ca-4cdc-d9de-eeb568850922"
      },
      "execution_count": 1,
      "outputs": [
        {
          "output_type": "stream",
          "name": "stdout",
          "text": [
            "{45: 'Subaru', 24: 'LADA', 12: 'Dodge', 54: 'УАЗ', 23: 'Kia', 35: 'Opel', 53: 'Москвич', 1: 'Alfa Romeo', 0: 'Acura', 10: 'Dacia', 27: 'Lexus', 33: 'Mitsubishi', 25: 'Lancia', 9: 'Citroen', 32: 'Mini', 21: 'Jaguar', 38: 'Porsche', 44: 'SsangYong', 11: 'Daewoo', 15: 'Geely', 50: 'ВАЗ', 13: 'Fiat', 14: 'Ford', 39: 'Renault', 42: 'Seat', 40: 'Rover', 48: 'Volkswagen', 28: 'Lifan', 22: 'Jeep', 5: 'Cadillac', 2: 'Audi', 52: 'ЗАЗ', 47: 'Toyota', 51: 'ГАЗ', 49: 'Volvo', 7: 'Chevrolet', 16: 'Great Wall', 4: 'Buick', 37: 'Pontiac', 29: 'Lincoln', 18: 'Hyundai', 34: 'Nissan', 46: 'Suzuki', 3: 'BMW', 30: 'Mazda', 26: 'Land Rover', 20: 'Iveco', 43: 'Skoda', 41: 'Saab', 19: 'Infiniti', 6: 'Chery', 17: 'Honda', 31: 'Mercedes-Benz', 36: 'Peugeot', 8: 'Chrysler'}\n"
          ]
        }
      ]
    },
    {
      "cell_type": "markdown",
      "source": [
        "# ***Using a code book***\n",
        "\n",
        "* Creating the codes:"
      ],
      "metadata": {
        "id": "0FVsAAf8f1P8"
      }
    },
    {
      "cell_type": "code",
      "source": [
        "used_cars['manufacturer_code'] = used_cars['manufacturer_name'].cat.codes\n",
        "used_cars['manufacturer_code'].unique()"
      ],
      "metadata": {
        "colab": {
          "base_uri": "https://localhost:8080/"
        },
        "id": "UNBi5xE8fX_b",
        "outputId": "685def12-753e-42f6-896c-ca9c3cf05491"
      },
      "execution_count": 7,
      "outputs": [
        {
          "output_type": "execute_result",
          "data": {
            "text/plain": [
              "array([45, 24, 12, 54, 23, 35, 53,  1,  0, 10, 27, 33, 25,  9, 32, 21, 38,\n",
              "       44, 11, 15, 50, 13, 14, 39, 42, 40, 48, 28, 22,  5,  2, 52, 47, 51,\n",
              "       49,  7, 16,  4, 37, 29, 18, 34, 46,  3, 30, 26, 20, 43, 41, 19,  6,\n",
              "       17, 31, 36,  8], dtype=int8)"
            ]
          },
          "metadata": {},
          "execution_count": 7
        }
      ]
    },
    {
      "cell_type": "markdown",
      "source": [
        "# ***Reverting to previous values:***"
      ],
      "metadata": {
        "id": "YajWvChZgJmD"
      }
    },
    {
      "cell_type": "code",
      "source": [
        "used_cars['manufacturer_code'].map(name_map).unique()"
      ],
      "metadata": {
        "colab": {
          "base_uri": "https://localhost:8080/"
        },
        "id": "LYjk8ZAFgFzw",
        "outputId": "02aa3e99-7e6e-468f-aad4-4255026b8451"
      },
      "execution_count": 8,
      "outputs": [
        {
          "output_type": "execute_result",
          "data": {
            "text/plain": [
              "array(['Subaru', 'LADA', 'Dodge', 'УАЗ', 'Kia', 'Opel', 'Москвич',\n",
              "       'Alfa Romeo', 'Acura', 'Dacia', 'Lexus', 'Mitsubishi', 'Lancia',\n",
              "       'Citroen', 'Mini', 'Jaguar', 'Porsche', 'SsangYong', 'Daewoo',\n",
              "       'Geely', 'ВАЗ', 'Fiat', 'Ford', 'Renault', 'Seat', 'Rover',\n",
              "       'Volkswagen', 'Lifan', 'Jeep', 'Cadillac', 'Audi', 'ЗАЗ', 'Toyota',\n",
              "       'ГАЗ', 'Volvo', 'Chevrolet', 'Great Wall', 'Buick', 'Pontiac',\n",
              "       'Lincoln', 'Hyundai', 'Nissan', 'Suzuki', 'BMW', 'Mazda',\n",
              "       'Land Rover', 'Iveco', 'Skoda', 'Saab', 'Infiniti', 'Chery',\n",
              "       'Honda', 'Mercedes-Benz', 'Peugeot', 'Chrysler'], dtype=object)"
            ]
          },
          "metadata": {},
          "execution_count": 8
        }
      ]
    },
    {
      "cell_type": "markdown",
      "source": [
        "# ***Boolean coding using `np.where()`***"
      ],
      "metadata": {
        "id": "SSMm-533g4Dy"
      }
    },
    {
      "cell_type": "code",
      "source": [
        "import numpy as np\n",
        "\n",
        "used_cars[\"van_code\"] = np.where(used_cars[\"body_type\"].str.contains(\"van\", regex=False), 1, 0)\n",
        "used_cars[\"van_code\"].value_counts()"
      ],
      "metadata": {
        "colab": {
          "base_uri": "https://localhost:8080/"
        },
        "id": "hEm6QCR-gfwE",
        "outputId": "6ac57c3d-b968-4332-90c6-6da7eb2edaeb"
      },
      "execution_count": 9,
      "outputs": [
        {
          "output_type": "execute_result",
          "data": {
            "text/plain": [
              "0    34115\n",
              "1     4416\n",
              "Name: van_code, dtype: int64"
            ]
          },
          "metadata": {},
          "execution_count": 9
        }
      ]
    },
    {
      "cell_type": "markdown",
      "source": [
        "### ***Create a label encoding and map***\n",
        "\n",
        "A used car company believes that they can predict a car's sales price reasonably well using their `used_cars` dataset. One of the variables they want to use, `\"color\"`, needs to be converted to codes. The company believes that a car's color will be important when predicting sales price.\n",
        "\n",
        "* Convert the color column to a categorical Series.\n",
        "* Create a new column, `\"color_code\"`, by creating a label encoding for the variable `\"color\"`.\n",
        "* Before you forget which codes belong to which categories, create a color map using the `codes` and `categories` objects.\n",
        "* Print the new `color map to see which codes map to which categories."
      ],
      "metadata": {
        "id": "EXZ2iZb_hoxx"
      }
    },
    {
      "cell_type": "code",
      "source": [
        "import pandas as pd\n",
        "\n",
        "used_cars = pd.read_csv('cars.csv')\n",
        "\n",
        "# Convert to categorical and print the frequency table\n",
        "used_cars[\"color\"] = used_cars[\"color\"].astype(\"category\")\n",
        "print(used_cars[\"color\"].value_counts())\n",
        "\n",
        "# Create a label encoding\n",
        "used_cars[\"color_code\"] = used_cars[\"color\"].cat.codes\n",
        "\n",
        "# Create codes and categories objects\n",
        "codes = used_cars[\"color\"].cat.codes\n",
        "categories = used_cars[\"color\"]\n",
        "color_map = dict(zip(codes, categories))\n",
        "\n",
        "# Print the map\n",
        "print(color_map)"
      ],
      "metadata": {
        "colab": {
          "base_uri": "https://localhost:8080/"
        },
        "id": "B1riULTJhX58",
        "outputId": "bc4b4e42-390a-4dc7-b179-85d7b3690f79"
      },
      "execution_count": 10,
      "outputs": [
        {
          "output_type": "stream",
          "name": "stdout",
          "text": [
            "black     7705\n",
            "silver    6852\n",
            "blue      5802\n",
            "white     4212\n",
            "grey      3751\n",
            "red       2925\n",
            "green     2760\n",
            "other     2688\n",
            "brown      886\n",
            "violet     463\n",
            "yellow     303\n",
            "orange     184\n",
            "Name: color, dtype: int64\n",
            "{8: 'silver', 1: 'blue', 7: 'red', 0: 'black', 4: 'grey', 6: 'other', 2: 'brown', 10: 'white', 3: 'green', 9: 'violet', 5: 'orange', 11: 'yellow'}\n"
          ]
        }
      ]
    },
    {
      "cell_type": "markdown",
      "source": [
        "### ***Using saved mappings***\n",
        "\n",
        "You are using a subset of a dataset and have been asked to create visualizations summarizing the output. As the dataset currently stands, all you see are numbers! Luckily, you had created and saved dictionaries (`color_map`, `fuel_map`, and `transmission_map`) that will map these columns back to their original categorical names. \n",
        "\n",
        "* Update the `\"color\"` column back to its original values using the `color_map` dictionary.\n",
        "* Update the `\"engine_fuel\"` column back to its original values using the `fuel_map` dictionary.\n",
        "* Update the `\"transmission\"` column back to its original values using the `transmission_map` dictionary.\n",
        "* Use .info() on the dataset to see if the `dtypes` have changed."
      ],
      "metadata": {
        "id": "WDYmv32ujJW-"
      }
    },
    {
      "cell_type": "code",
      "source": [
        "import pandas as pd\n",
        "\n",
        "used_cars = pd.read_csv('cars.csv')\n",
        "used_cars_updated = pd.DataFrame()\n",
        "used_cars_updated['engine_fuel'] = used_cars['engine_fuel'].astype('category').cat.codes\n",
        "used_cars_updated['color'] = used_cars['color'].astype('category').cat.codes\n",
        "used_cars_updated['transmission'] = used_cars['transmission'].astype('category').cat.codes\n",
        "used_cars_updated['price_usd'] = used_cars['price_usd']\n",
        "print(used_cars_updated.dtypes)\n",
        "color_map = dict(zip(used_cars_updated['engine_fuel'], used_cars['engine_fuel']))\n",
        "fuel_map = dict(zip(used_cars_updated['color'], used_cars['color']))\n",
        "transmission_map = dict(zip(used_cars_updated['transmission'], used_cars['transmission']))\n"
      ],
      "metadata": {
        "colab": {
          "base_uri": "https://localhost:8080/"
        },
        "id": "vatVMeREjAHf",
        "outputId": "1956963a-9c46-493a-c290-2f1a4f263562"
      },
      "execution_count": 20,
      "outputs": [
        {
          "output_type": "stream",
          "name": "stdout",
          "text": [
            "engine_fuel        int8\n",
            "color              int8\n",
            "transmission       int8\n",
            "price_usd       float64\n",
            "dtype: object\n"
          ]
        }
      ]
    },
    {
      "cell_type": "markdown",
      "source": [
        "### ***Creating a Boolean encoding***\n",
        "\n",
        "In preparation for running machine learning models to estimate the sale price of used cars, you are starting to analyze the available columns of the `used_cars` dataset and want to create columns that can be used in training. One of the managers of a used car dealership has said that the manufacturer of the car is the most important aspect he considers when setting prices. You will begin by exploring the `manufacturer_name` column.\n",
        "\n",
        "* Print the frequency table of the `\"manufacturer_name\"` column.\n",
        "* Create a column, `\"is_volkswagen\"`, that is `True` when `\"manufacturer_name\"` contains `\"Volkswagen\"` and `False` otherwise.\n",
        "* Update the code so that a `1` is used instead of `True` and a `0` is used instead of `False` so Python can use this column in algorithms.\n",
        "* Print out a frequency table for the newly created column.\n",
        "\n"
      ],
      "metadata": {
        "id": "xkH0I1z8mPIB"
      }
    },
    {
      "cell_type": "code",
      "source": [
        "import pandas as pd\n",
        "\n",
        "used_cars = pd.read_csv('cars.csv')\n",
        "\n",
        "# Print the \"manufacturer_name\" frequency table.\n",
        "print(used_cars[\"manufacturer_name\"].value_counts())\n",
        "\n",
        "# Create a Boolean column for the most common manufacturer name\n",
        "used_cars[\"is_volkswagen\"] = np.where(\n",
        "  used_cars[\"manufacturer_name\"].str.contains(\"Volkswagen\", regex=False), 1, 0\n",
        ")\n",
        "  \n",
        "# Check the final frequency table\n",
        "print(used_cars[\"is_volkswagen\"].value_counts())"
      ],
      "metadata": {
        "colab": {
          "base_uri": "https://localhost:8080/"
        },
        "id": "ZqWOxUzvjlws",
        "outputId": "78633eb3-4208-4c4d-d68b-d5336d9aef6c"
      },
      "execution_count": 21,
      "outputs": [
        {
          "output_type": "stream",
          "name": "stdout",
          "text": [
            "Volkswagen       4243\n",
            "Opel             2759\n",
            "BMW              2610\n",
            "Ford             2566\n",
            "Renault          2493\n",
            "Audi             2468\n",
            "Mercedes-Benz    2237\n",
            "Peugeot          1909\n",
            "Citroen          1562\n",
            "Nissan           1361\n",
            "Mazda            1328\n",
            "Toyota           1246\n",
            "Hyundai          1116\n",
            "Skoda            1089\n",
            "Kia               912\n",
            "Mitsubishi        887\n",
            "Fiat              824\n",
            "Honda             797\n",
            "Volvo             721\n",
            "ВАЗ               481\n",
            "Chevrolet         436\n",
            "Chrysler          410\n",
            "Seat              303\n",
            "Dodge             297\n",
            "Subaru            291\n",
            "Rover             235\n",
            "Suzuki            234\n",
            "Daewoo            221\n",
            "Lexus             213\n",
            "Alfa Romeo        207\n",
            "ГАЗ               200\n",
            "Land Rover        184\n",
            "Infiniti          162\n",
            "LADA              146\n",
            "Iveco             139\n",
            "Saab              108\n",
            "Jeep              107\n",
            "Lancia             92\n",
            "SsangYong          79\n",
            "УАЗ                74\n",
            "Geely              71\n",
            "Mini               68\n",
            "Acura              66\n",
            "Porsche            61\n",
            "Dacia              59\n",
            "Chery              58\n",
            "Москвич            55\n",
            "Jaguar             53\n",
            "Buick              47\n",
            "Lifan              47\n",
            "Cadillac           43\n",
            "Pontiac            42\n",
            "ЗАЗ                42\n",
            "Lincoln            36\n",
            "Great Wall         36\n",
            "Name: manufacturer_name, dtype: int64\n",
            "0    34288\n",
            "1     4243\n",
            "Name: is_volkswagen, dtype: int64\n"
          ]
        }
      ]
    },
    {
      "cell_type": "markdown",
      "source": [
        "# ***One-hot encoding with pandas***\n",
        "\n",
        "**`pd.get_dummies()`**\n",
        "\n",
        "* **`data`** : a pandas DataFrame\n",
        "* **`columns`** : a list-like object of column names\n",
        "* **`prefix`** : a string to add to the beginning of each category\n",
        "\n",
        "Example:\n"
      ],
      "metadata": {
        "id": "c7z8sXfeVxWT"
      }
    },
    {
      "cell_type": "code",
      "source": [
        "import pandas as pd\n",
        "\n",
        "used_cars = pd.read_csv('cars.csv')\n",
        "\n",
        "print(used_cars[[\"odometer_value\", \"color\"]].head())\n",
        "print(used_cars['color'].unique())\n",
        "\n",
        "used_cars_onehot = pd.get_dummies(used_cars[[\"odometer_value\", \"color\"]])\n",
        "used_cars_onehot.head()"
      ],
      "metadata": {
        "colab": {
          "base_uri": "https://localhost:8080/",
          "height": 416
        },
        "id": "aic1Zh3NkNa2",
        "outputId": "d32c8acd-7934-42dc-a8dd-f0fcd0088dbb"
      },
      "execution_count": 27,
      "outputs": [
        {
          "output_type": "stream",
          "name": "stdout",
          "text": [
            "   odometer_value   color\n",
            "0          190000  silver\n",
            "1          290000    blue\n",
            "2          402000     red\n",
            "3           10000    blue\n",
            "4          280000   black\n",
            "['silver' 'blue' 'red' 'black' 'grey' 'other' 'brown' 'white' 'green'\n",
            " 'violet' 'orange' 'yellow']\n"
          ]
        },
        {
          "output_type": "execute_result",
          "data": {
            "text/html": [
              "\n",
              "  <div id=\"df-a0fe6a98-a885-4c3a-9bf2-ff343b0a0995\">\n",
              "    <div class=\"colab-df-container\">\n",
              "      <div>\n",
              "<style scoped>\n",
              "    .dataframe tbody tr th:only-of-type {\n",
              "        vertical-align: middle;\n",
              "    }\n",
              "\n",
              "    .dataframe tbody tr th {\n",
              "        vertical-align: top;\n",
              "    }\n",
              "\n",
              "    .dataframe thead th {\n",
              "        text-align: right;\n",
              "    }\n",
              "</style>\n",
              "<table border=\"1\" class=\"dataframe\">\n",
              "  <thead>\n",
              "    <tr style=\"text-align: right;\">\n",
              "      <th></th>\n",
              "      <th>odometer_value</th>\n",
              "      <th>color_black</th>\n",
              "      <th>color_blue</th>\n",
              "      <th>color_brown</th>\n",
              "      <th>color_green</th>\n",
              "      <th>color_grey</th>\n",
              "      <th>color_orange</th>\n",
              "      <th>color_other</th>\n",
              "      <th>color_red</th>\n",
              "      <th>color_silver</th>\n",
              "      <th>color_violet</th>\n",
              "      <th>color_white</th>\n",
              "      <th>color_yellow</th>\n",
              "    </tr>\n",
              "  </thead>\n",
              "  <tbody>\n",
              "    <tr>\n",
              "      <th>0</th>\n",
              "      <td>190000</td>\n",
              "      <td>0</td>\n",
              "      <td>0</td>\n",
              "      <td>0</td>\n",
              "      <td>0</td>\n",
              "      <td>0</td>\n",
              "      <td>0</td>\n",
              "      <td>0</td>\n",
              "      <td>0</td>\n",
              "      <td>1</td>\n",
              "      <td>0</td>\n",
              "      <td>0</td>\n",
              "      <td>0</td>\n",
              "    </tr>\n",
              "    <tr>\n",
              "      <th>1</th>\n",
              "      <td>290000</td>\n",
              "      <td>0</td>\n",
              "      <td>1</td>\n",
              "      <td>0</td>\n",
              "      <td>0</td>\n",
              "      <td>0</td>\n",
              "      <td>0</td>\n",
              "      <td>0</td>\n",
              "      <td>0</td>\n",
              "      <td>0</td>\n",
              "      <td>0</td>\n",
              "      <td>0</td>\n",
              "      <td>0</td>\n",
              "    </tr>\n",
              "    <tr>\n",
              "      <th>2</th>\n",
              "      <td>402000</td>\n",
              "      <td>0</td>\n",
              "      <td>0</td>\n",
              "      <td>0</td>\n",
              "      <td>0</td>\n",
              "      <td>0</td>\n",
              "      <td>0</td>\n",
              "      <td>0</td>\n",
              "      <td>1</td>\n",
              "      <td>0</td>\n",
              "      <td>0</td>\n",
              "      <td>0</td>\n",
              "      <td>0</td>\n",
              "    </tr>\n",
              "    <tr>\n",
              "      <th>3</th>\n",
              "      <td>10000</td>\n",
              "      <td>0</td>\n",
              "      <td>1</td>\n",
              "      <td>0</td>\n",
              "      <td>0</td>\n",
              "      <td>0</td>\n",
              "      <td>0</td>\n",
              "      <td>0</td>\n",
              "      <td>0</td>\n",
              "      <td>0</td>\n",
              "      <td>0</td>\n",
              "      <td>0</td>\n",
              "      <td>0</td>\n",
              "    </tr>\n",
              "    <tr>\n",
              "      <th>4</th>\n",
              "      <td>280000</td>\n",
              "      <td>1</td>\n",
              "      <td>0</td>\n",
              "      <td>0</td>\n",
              "      <td>0</td>\n",
              "      <td>0</td>\n",
              "      <td>0</td>\n",
              "      <td>0</td>\n",
              "      <td>0</td>\n",
              "      <td>0</td>\n",
              "      <td>0</td>\n",
              "      <td>0</td>\n",
              "      <td>0</td>\n",
              "    </tr>\n",
              "  </tbody>\n",
              "</table>\n",
              "</div>\n",
              "      <button class=\"colab-df-convert\" onclick=\"convertToInteractive('df-a0fe6a98-a885-4c3a-9bf2-ff343b0a0995')\"\n",
              "              title=\"Convert this dataframe to an interactive table.\"\n",
              "              style=\"display:none;\">\n",
              "        \n",
              "  <svg xmlns=\"http://www.w3.org/2000/svg\" height=\"24px\"viewBox=\"0 0 24 24\"\n",
              "       width=\"24px\">\n",
              "    <path d=\"M0 0h24v24H0V0z\" fill=\"none\"/>\n",
              "    <path d=\"M18.56 5.44l.94 2.06.94-2.06 2.06-.94-2.06-.94-.94-2.06-.94 2.06-2.06.94zm-11 1L8.5 8.5l.94-2.06 2.06-.94-2.06-.94L8.5 2.5l-.94 2.06-2.06.94zm10 10l.94 2.06.94-2.06 2.06-.94-2.06-.94-.94-2.06-.94 2.06-2.06.94z\"/><path d=\"M17.41 7.96l-1.37-1.37c-.4-.4-.92-.59-1.43-.59-.52 0-1.04.2-1.43.59L10.3 9.45l-7.72 7.72c-.78.78-.78 2.05 0 2.83L4 21.41c.39.39.9.59 1.41.59.51 0 1.02-.2 1.41-.59l7.78-7.78 2.81-2.81c.8-.78.8-2.07 0-2.86zM5.41 20L4 18.59l7.72-7.72 1.47 1.35L5.41 20z\"/>\n",
              "  </svg>\n",
              "      </button>\n",
              "      \n",
              "  <style>\n",
              "    .colab-df-container {\n",
              "      display:flex;\n",
              "      flex-wrap:wrap;\n",
              "      gap: 12px;\n",
              "    }\n",
              "\n",
              "    .colab-df-convert {\n",
              "      background-color: #E8F0FE;\n",
              "      border: none;\n",
              "      border-radius: 50%;\n",
              "      cursor: pointer;\n",
              "      display: none;\n",
              "      fill: #1967D2;\n",
              "      height: 32px;\n",
              "      padding: 0 0 0 0;\n",
              "      width: 32px;\n",
              "    }\n",
              "\n",
              "    .colab-df-convert:hover {\n",
              "      background-color: #E2EBFA;\n",
              "      box-shadow: 0px 1px 2px rgba(60, 64, 67, 0.3), 0px 1px 3px 1px rgba(60, 64, 67, 0.15);\n",
              "      fill: #174EA6;\n",
              "    }\n",
              "\n",
              "    [theme=dark] .colab-df-convert {\n",
              "      background-color: #3B4455;\n",
              "      fill: #D2E3FC;\n",
              "    }\n",
              "\n",
              "    [theme=dark] .colab-df-convert:hover {\n",
              "      background-color: #434B5C;\n",
              "      box-shadow: 0px 1px 3px 1px rgba(0, 0, 0, 0.15);\n",
              "      filter: drop-shadow(0px 1px 2px rgba(0, 0, 0, 0.3));\n",
              "      fill: #FFFFFF;\n",
              "    }\n",
              "  </style>\n",
              "\n",
              "      <script>\n",
              "        const buttonEl =\n",
              "          document.querySelector('#df-a0fe6a98-a885-4c3a-9bf2-ff343b0a0995 button.colab-df-convert');\n",
              "        buttonEl.style.display =\n",
              "          google.colab.kernel.accessAllowed ? 'block' : 'none';\n",
              "\n",
              "        async function convertToInteractive(key) {\n",
              "          const element = document.querySelector('#df-a0fe6a98-a885-4c3a-9bf2-ff343b0a0995');\n",
              "          const dataTable =\n",
              "            await google.colab.kernel.invokeFunction('convertToInteractive',\n",
              "                                                     [key], {});\n",
              "          if (!dataTable) return;\n",
              "\n",
              "          const docLinkHtml = 'Like what you see? Visit the ' +\n",
              "            '<a target=\"_blank\" href=https://colab.research.google.com/notebooks/data_table.ipynb>data table notebook</a>'\n",
              "            + ' to learn more about interactive tables.';\n",
              "          element.innerHTML = '';\n",
              "          dataTable['output_type'] = 'display_data';\n",
              "          await google.colab.output.renderOutput(dataTable, element);\n",
              "          const docLink = document.createElement('div');\n",
              "          docLink.innerHTML = docLinkHtml;\n",
              "          element.appendChild(docLink);\n",
              "        }\n",
              "      </script>\n",
              "    </div>\n",
              "  </div>\n",
              "  "
            ],
            "text/plain": [
              "   odometer_value  color_black  ...  color_white  color_yellow\n",
              "0          190000            0  ...            0             0\n",
              "1          290000            0  ...            0             0\n",
              "2          402000            0  ...            0             0\n",
              "3           10000            0  ...            0             0\n",
              "4          280000            1  ...            0             0\n",
              "\n",
              "[5 rows x 13 columns]"
            ]
          },
          "metadata": {},
          "execution_count": 27
        }
      ]
    },
    {
      "cell_type": "code",
      "source": [
        "import pandas as pd\n",
        "\n",
        "used_cars = pd.read_csv('cars.csv')\n",
        "\n",
        "used_cars_onehot = pd.get_dummies(used_cars, columns=[\"color\"], prefix=\"\")\n",
        "used_cars_onehot.head()\n"
      ],
      "metadata": {
        "colab": {
          "base_uri": "https://localhost:8080/",
          "height": 270
        },
        "id": "tR8d5MuUX5Sz",
        "outputId": "11596ee1-3be8-4440-daae-be163ec5fd7e"
      },
      "execution_count": 3,
      "outputs": [
        {
          "output_type": "execute_result",
          "data": {
            "text/html": [
              "\n",
              "  <div id=\"df-62debd0b-37b9-43fd-afe8-aca7f7f4ae67\">\n",
              "    <div class=\"colab-df-container\">\n",
              "      <div>\n",
              "<style scoped>\n",
              "    .dataframe tbody tr th:only-of-type {\n",
              "        vertical-align: middle;\n",
              "    }\n",
              "\n",
              "    .dataframe tbody tr th {\n",
              "        vertical-align: top;\n",
              "    }\n",
              "\n",
              "    .dataframe thead th {\n",
              "        text-align: right;\n",
              "    }\n",
              "</style>\n",
              "<table border=\"1\" class=\"dataframe\">\n",
              "  <thead>\n",
              "    <tr style=\"text-align: right;\">\n",
              "      <th></th>\n",
              "      <th>manufacturer_name</th>\n",
              "      <th>model_name</th>\n",
              "      <th>transmission</th>\n",
              "      <th>odometer_value</th>\n",
              "      <th>year_produced</th>\n",
              "      <th>engine_fuel</th>\n",
              "      <th>engine_has_gas</th>\n",
              "      <th>engine_type</th>\n",
              "      <th>engine_capacity</th>\n",
              "      <th>body_type</th>\n",
              "      <th>has_warranty</th>\n",
              "      <th>state</th>\n",
              "      <th>drivetrain</th>\n",
              "      <th>price_usd</th>\n",
              "      <th>is_exchangeable</th>\n",
              "      <th>location_region</th>\n",
              "      <th>number_of_photos</th>\n",
              "      <th>up_counter</th>\n",
              "      <th>feature_0</th>\n",
              "      <th>feature_1</th>\n",
              "      <th>feature_2</th>\n",
              "      <th>feature_3</th>\n",
              "      <th>feature_4</th>\n",
              "      <th>feature_5</th>\n",
              "      <th>feature_6</th>\n",
              "      <th>feature_7</th>\n",
              "      <th>feature_8</th>\n",
              "      <th>feature_9</th>\n",
              "      <th>duration_listed</th>\n",
              "      <th>_black</th>\n",
              "      <th>_blue</th>\n",
              "      <th>_brown</th>\n",
              "      <th>_green</th>\n",
              "      <th>_grey</th>\n",
              "      <th>_orange</th>\n",
              "      <th>_other</th>\n",
              "      <th>_red</th>\n",
              "      <th>_silver</th>\n",
              "      <th>_violet</th>\n",
              "      <th>_white</th>\n",
              "      <th>_yellow</th>\n",
              "    </tr>\n",
              "  </thead>\n",
              "  <tbody>\n",
              "    <tr>\n",
              "      <th>0</th>\n",
              "      <td>Subaru</td>\n",
              "      <td>Outback</td>\n",
              "      <td>automatic</td>\n",
              "      <td>190000</td>\n",
              "      <td>2010</td>\n",
              "      <td>gasoline</td>\n",
              "      <td>False</td>\n",
              "      <td>gasoline</td>\n",
              "      <td>2.5</td>\n",
              "      <td>universal</td>\n",
              "      <td>False</td>\n",
              "      <td>owned</td>\n",
              "      <td>all</td>\n",
              "      <td>10900.00</td>\n",
              "      <td>False</td>\n",
              "      <td>Минская обл.</td>\n",
              "      <td>9</td>\n",
              "      <td>13</td>\n",
              "      <td>False</td>\n",
              "      <td>True</td>\n",
              "      <td>True</td>\n",
              "      <td>True</td>\n",
              "      <td>False</td>\n",
              "      <td>True</td>\n",
              "      <td>False</td>\n",
              "      <td>True</td>\n",
              "      <td>True</td>\n",
              "      <td>True</td>\n",
              "      <td>16</td>\n",
              "      <td>0</td>\n",
              "      <td>0</td>\n",
              "      <td>0</td>\n",
              "      <td>0</td>\n",
              "      <td>0</td>\n",
              "      <td>0</td>\n",
              "      <td>0</td>\n",
              "      <td>0</td>\n",
              "      <td>1</td>\n",
              "      <td>0</td>\n",
              "      <td>0</td>\n",
              "      <td>0</td>\n",
              "    </tr>\n",
              "    <tr>\n",
              "      <th>1</th>\n",
              "      <td>Subaru</td>\n",
              "      <td>Outback</td>\n",
              "      <td>automatic</td>\n",
              "      <td>290000</td>\n",
              "      <td>2002</td>\n",
              "      <td>gasoline</td>\n",
              "      <td>False</td>\n",
              "      <td>gasoline</td>\n",
              "      <td>3.0</td>\n",
              "      <td>universal</td>\n",
              "      <td>False</td>\n",
              "      <td>owned</td>\n",
              "      <td>all</td>\n",
              "      <td>5000.00</td>\n",
              "      <td>True</td>\n",
              "      <td>Минская обл.</td>\n",
              "      <td>12</td>\n",
              "      <td>54</td>\n",
              "      <td>False</td>\n",
              "      <td>True</td>\n",
              "      <td>False</td>\n",
              "      <td>False</td>\n",
              "      <td>True</td>\n",
              "      <td>True</td>\n",
              "      <td>False</td>\n",
              "      <td>False</td>\n",
              "      <td>False</td>\n",
              "      <td>True</td>\n",
              "      <td>83</td>\n",
              "      <td>0</td>\n",
              "      <td>1</td>\n",
              "      <td>0</td>\n",
              "      <td>0</td>\n",
              "      <td>0</td>\n",
              "      <td>0</td>\n",
              "      <td>0</td>\n",
              "      <td>0</td>\n",
              "      <td>0</td>\n",
              "      <td>0</td>\n",
              "      <td>0</td>\n",
              "      <td>0</td>\n",
              "    </tr>\n",
              "    <tr>\n",
              "      <th>2</th>\n",
              "      <td>Subaru</td>\n",
              "      <td>Forester</td>\n",
              "      <td>automatic</td>\n",
              "      <td>402000</td>\n",
              "      <td>2001</td>\n",
              "      <td>gasoline</td>\n",
              "      <td>False</td>\n",
              "      <td>gasoline</td>\n",
              "      <td>2.5</td>\n",
              "      <td>suv</td>\n",
              "      <td>False</td>\n",
              "      <td>owned</td>\n",
              "      <td>all</td>\n",
              "      <td>2800.00</td>\n",
              "      <td>True</td>\n",
              "      <td>Минская обл.</td>\n",
              "      <td>4</td>\n",
              "      <td>72</td>\n",
              "      <td>False</td>\n",
              "      <td>True</td>\n",
              "      <td>False</td>\n",
              "      <td>False</td>\n",
              "      <td>False</td>\n",
              "      <td>False</td>\n",
              "      <td>False</td>\n",
              "      <td>False</td>\n",
              "      <td>True</td>\n",
              "      <td>True</td>\n",
              "      <td>151</td>\n",
              "      <td>0</td>\n",
              "      <td>0</td>\n",
              "      <td>0</td>\n",
              "      <td>0</td>\n",
              "      <td>0</td>\n",
              "      <td>0</td>\n",
              "      <td>0</td>\n",
              "      <td>1</td>\n",
              "      <td>0</td>\n",
              "      <td>0</td>\n",
              "      <td>0</td>\n",
              "      <td>0</td>\n",
              "    </tr>\n",
              "    <tr>\n",
              "      <th>3</th>\n",
              "      <td>Subaru</td>\n",
              "      <td>Impreza</td>\n",
              "      <td>mechanical</td>\n",
              "      <td>10000</td>\n",
              "      <td>1999</td>\n",
              "      <td>gasoline</td>\n",
              "      <td>False</td>\n",
              "      <td>gasoline</td>\n",
              "      <td>3.0</td>\n",
              "      <td>sedan</td>\n",
              "      <td>False</td>\n",
              "      <td>owned</td>\n",
              "      <td>all</td>\n",
              "      <td>9999.00</td>\n",
              "      <td>True</td>\n",
              "      <td>Минская обл.</td>\n",
              "      <td>9</td>\n",
              "      <td>42</td>\n",
              "      <td>True</td>\n",
              "      <td>False</td>\n",
              "      <td>False</td>\n",
              "      <td>False</td>\n",
              "      <td>False</td>\n",
              "      <td>False</td>\n",
              "      <td>False</td>\n",
              "      <td>False</td>\n",
              "      <td>False</td>\n",
              "      <td>False</td>\n",
              "      <td>86</td>\n",
              "      <td>0</td>\n",
              "      <td>1</td>\n",
              "      <td>0</td>\n",
              "      <td>0</td>\n",
              "      <td>0</td>\n",
              "      <td>0</td>\n",
              "      <td>0</td>\n",
              "      <td>0</td>\n",
              "      <td>0</td>\n",
              "      <td>0</td>\n",
              "      <td>0</td>\n",
              "      <td>0</td>\n",
              "    </tr>\n",
              "    <tr>\n",
              "      <th>4</th>\n",
              "      <td>Subaru</td>\n",
              "      <td>Legacy</td>\n",
              "      <td>automatic</td>\n",
              "      <td>280000</td>\n",
              "      <td>2001</td>\n",
              "      <td>gasoline</td>\n",
              "      <td>False</td>\n",
              "      <td>gasoline</td>\n",
              "      <td>2.5</td>\n",
              "      <td>universal</td>\n",
              "      <td>False</td>\n",
              "      <td>owned</td>\n",
              "      <td>all</td>\n",
              "      <td>2134.11</td>\n",
              "      <td>True</td>\n",
              "      <td>Гомельская обл.</td>\n",
              "      <td>14</td>\n",
              "      <td>7</td>\n",
              "      <td>False</td>\n",
              "      <td>True</td>\n",
              "      <td>False</td>\n",
              "      <td>True</td>\n",
              "      <td>True</td>\n",
              "      <td>False</td>\n",
              "      <td>False</td>\n",
              "      <td>False</td>\n",
              "      <td>False</td>\n",
              "      <td>True</td>\n",
              "      <td>7</td>\n",
              "      <td>1</td>\n",
              "      <td>0</td>\n",
              "      <td>0</td>\n",
              "      <td>0</td>\n",
              "      <td>0</td>\n",
              "      <td>0</td>\n",
              "      <td>0</td>\n",
              "      <td>0</td>\n",
              "      <td>0</td>\n",
              "      <td>0</td>\n",
              "      <td>0</td>\n",
              "      <td>0</td>\n",
              "    </tr>\n",
              "  </tbody>\n",
              "</table>\n",
              "</div>\n",
              "      <button class=\"colab-df-convert\" onclick=\"convertToInteractive('df-62debd0b-37b9-43fd-afe8-aca7f7f4ae67')\"\n",
              "              title=\"Convert this dataframe to an interactive table.\"\n",
              "              style=\"display:none;\">\n",
              "        \n",
              "  <svg xmlns=\"http://www.w3.org/2000/svg\" height=\"24px\"viewBox=\"0 0 24 24\"\n",
              "       width=\"24px\">\n",
              "    <path d=\"M0 0h24v24H0V0z\" fill=\"none\"/>\n",
              "    <path d=\"M18.56 5.44l.94 2.06.94-2.06 2.06-.94-2.06-.94-.94-2.06-.94 2.06-2.06.94zm-11 1L8.5 8.5l.94-2.06 2.06-.94-2.06-.94L8.5 2.5l-.94 2.06-2.06.94zm10 10l.94 2.06.94-2.06 2.06-.94-2.06-.94-.94-2.06-.94 2.06-2.06.94z\"/><path d=\"M17.41 7.96l-1.37-1.37c-.4-.4-.92-.59-1.43-.59-.52 0-1.04.2-1.43.59L10.3 9.45l-7.72 7.72c-.78.78-.78 2.05 0 2.83L4 21.41c.39.39.9.59 1.41.59.51 0 1.02-.2 1.41-.59l7.78-7.78 2.81-2.81c.8-.78.8-2.07 0-2.86zM5.41 20L4 18.59l7.72-7.72 1.47 1.35L5.41 20z\"/>\n",
              "  </svg>\n",
              "      </button>\n",
              "      \n",
              "  <style>\n",
              "    .colab-df-container {\n",
              "      display:flex;\n",
              "      flex-wrap:wrap;\n",
              "      gap: 12px;\n",
              "    }\n",
              "\n",
              "    .colab-df-convert {\n",
              "      background-color: #E8F0FE;\n",
              "      border: none;\n",
              "      border-radius: 50%;\n",
              "      cursor: pointer;\n",
              "      display: none;\n",
              "      fill: #1967D2;\n",
              "      height: 32px;\n",
              "      padding: 0 0 0 0;\n",
              "      width: 32px;\n",
              "    }\n",
              "\n",
              "    .colab-df-convert:hover {\n",
              "      background-color: #E2EBFA;\n",
              "      box-shadow: 0px 1px 2px rgba(60, 64, 67, 0.3), 0px 1px 3px 1px rgba(60, 64, 67, 0.15);\n",
              "      fill: #174EA6;\n",
              "    }\n",
              "\n",
              "    [theme=dark] .colab-df-convert {\n",
              "      background-color: #3B4455;\n",
              "      fill: #D2E3FC;\n",
              "    }\n",
              "\n",
              "    [theme=dark] .colab-df-convert:hover {\n",
              "      background-color: #434B5C;\n",
              "      box-shadow: 0px 1px 3px 1px rgba(0, 0, 0, 0.15);\n",
              "      filter: drop-shadow(0px 1px 2px rgba(0, 0, 0, 0.3));\n",
              "      fill: #FFFFFF;\n",
              "    }\n",
              "  </style>\n",
              "\n",
              "      <script>\n",
              "        const buttonEl =\n",
              "          document.querySelector('#df-62debd0b-37b9-43fd-afe8-aca7f7f4ae67 button.colab-df-convert');\n",
              "        buttonEl.style.display =\n",
              "          google.colab.kernel.accessAllowed ? 'block' : 'none';\n",
              "\n",
              "        async function convertToInteractive(key) {\n",
              "          const element = document.querySelector('#df-62debd0b-37b9-43fd-afe8-aca7f7f4ae67');\n",
              "          const dataTable =\n",
              "            await google.colab.kernel.invokeFunction('convertToInteractive',\n",
              "                                                     [key], {});\n",
              "          if (!dataTable) return;\n",
              "\n",
              "          const docLinkHtml = 'Like what you see? Visit the ' +\n",
              "            '<a target=\"_blank\" href=https://colab.research.google.com/notebooks/data_table.ipynb>data table notebook</a>'\n",
              "            + ' to learn more about interactive tables.';\n",
              "          element.innerHTML = '';\n",
              "          dataTable['output_type'] = 'display_data';\n",
              "          await google.colab.output.renderOutput(dataTable, element);\n",
              "          const docLink = document.createElement('div');\n",
              "          docLink.innerHTML = docLinkHtml;\n",
              "          element.appendChild(docLink);\n",
              "        }\n",
              "      </script>\n",
              "    </div>\n",
              "  </div>\n",
              "  "
            ],
            "text/plain": [
              "  manufacturer_name model_name transmission  ...  _violet  _white _yellow\n",
              "0            Subaru    Outback    automatic  ...        0       0       0\n",
              "1            Subaru    Outback    automatic  ...        0       0       0\n",
              "2            Subaru   Forester    automatic  ...        0       0       0\n",
              "3            Subaru    Impreza   mechanical  ...        0       0       0\n",
              "4            Subaru     Legacy    automatic  ...        0       0       0\n",
              "\n",
              "[5 rows x 41 columns]"
            ]
          },
          "metadata": {},
          "execution_count": 3
        }
      ]
    },
    {
      "cell_type": "markdown",
      "source": [
        "* `NaN` values do not get their own column\n",
        "  * This means that row has all zero values for `NaN` when one hot\n",
        "\n",
        "### ***One-hot encoding specific columns***\n",
        "\n",
        "A local used car dealership wants your help in predicting the sale price of their vehicles. If you use one-hot encoding on the entire `used_cars` dataset, the new dataset has over 1,200 columns. You are worried that this might lead to problems when training your machine learning models to predict price. You have decided to try a simpler approach and only use one-hot encoding on a few columns.\n",
        "\n",
        "* Create a new dataset, `used_cars_simple`, with one-hot encoding for these columns: `\"manufacturer_name\"` and `\"transmission\"` (in this order).\n",
        "* Set the prefix of all new columns to `\"dummy\"`, so that you can easily filter to newly created columns."
      ],
      "metadata": {
        "id": "1vKKp0VdarKx"
      }
    },
    {
      "cell_type": "code",
      "source": [
        "import pandas as pd\n",
        "\n",
        "used_cars = pd.read_csv('cars.csv')\n",
        "\n",
        "# Create one-hot encoding for just two columns\n",
        "used_cars_simple = pd.get_dummies(\n",
        "  used_cars,\n",
        "  # Specify the columns from the instructions\n",
        "  columns=['manufacturer_name', 'transmission'],\n",
        "  # Set the prefix\n",
        "  prefix='dummy'\n",
        ")\n",
        "\n",
        "# Print the shape of the new dataset\n",
        "print(used_cars_simple.shape)"
      ],
      "metadata": {
        "colab": {
          "base_uri": "https://localhost:8080/"
        },
        "id": "E7ueW37AZg_x",
        "outputId": "6f887bd9-1c85-4734-ff89-189b10c0914d"
      },
      "execution_count": 9,
      "outputs": [
        {
          "output_type": "stream",
          "name": "stdout",
          "text": [
            "(38531, 85)\n"
          ]
        }
      ]
    },
    {
      "cell_type": "markdown",
      "source": [
        "You won't be able to use categorical columns that have NOT been encoded, but limiting which categorical columns are included in your algorithm may prevent overfitting and help the dealership quickly assess a car's potential sale price."
      ],
      "metadata": {
        "id": "5M7NC07hdcnb"
      }
    },
    {
      "cell_type": "code",
      "source": [
        "used_cars_simple.loc[used_cars_simple['dummy_Subaru']==1, ('dummy_Subaru', 'dummy_automatic',\t'dummy_mechanical')].head()"
      ],
      "metadata": {
        "colab": {
          "base_uri": "https://localhost:8080/",
          "height": 206
        },
        "id": "Cluy5XTmcOd_",
        "outputId": "0ce8b4af-fe56-4b8d-b15e-23f9018655dc"
      },
      "execution_count": 12,
      "outputs": [
        {
          "output_type": "execute_result",
          "data": {
            "text/html": [
              "\n",
              "  <div id=\"df-97f8adbc-26f0-4e63-9f05-dd780bb0852e\">\n",
              "    <div class=\"colab-df-container\">\n",
              "      <div>\n",
              "<style scoped>\n",
              "    .dataframe tbody tr th:only-of-type {\n",
              "        vertical-align: middle;\n",
              "    }\n",
              "\n",
              "    .dataframe tbody tr th {\n",
              "        vertical-align: top;\n",
              "    }\n",
              "\n",
              "    .dataframe thead th {\n",
              "        text-align: right;\n",
              "    }\n",
              "</style>\n",
              "<table border=\"1\" class=\"dataframe\">\n",
              "  <thead>\n",
              "    <tr style=\"text-align: right;\">\n",
              "      <th></th>\n",
              "      <th>dummy_Subaru</th>\n",
              "      <th>dummy_automatic</th>\n",
              "      <th>dummy_mechanical</th>\n",
              "    </tr>\n",
              "  </thead>\n",
              "  <tbody>\n",
              "    <tr>\n",
              "      <th>0</th>\n",
              "      <td>1</td>\n",
              "      <td>1</td>\n",
              "      <td>0</td>\n",
              "    </tr>\n",
              "    <tr>\n",
              "      <th>1</th>\n",
              "      <td>1</td>\n",
              "      <td>1</td>\n",
              "      <td>0</td>\n",
              "    </tr>\n",
              "    <tr>\n",
              "      <th>2</th>\n",
              "      <td>1</td>\n",
              "      <td>1</td>\n",
              "      <td>0</td>\n",
              "    </tr>\n",
              "    <tr>\n",
              "      <th>3</th>\n",
              "      <td>1</td>\n",
              "      <td>0</td>\n",
              "      <td>1</td>\n",
              "    </tr>\n",
              "    <tr>\n",
              "      <th>4</th>\n",
              "      <td>1</td>\n",
              "      <td>1</td>\n",
              "      <td>0</td>\n",
              "    </tr>\n",
              "  </tbody>\n",
              "</table>\n",
              "</div>\n",
              "      <button class=\"colab-df-convert\" onclick=\"convertToInteractive('df-97f8adbc-26f0-4e63-9f05-dd780bb0852e')\"\n",
              "              title=\"Convert this dataframe to an interactive table.\"\n",
              "              style=\"display:none;\">\n",
              "        \n",
              "  <svg xmlns=\"http://www.w3.org/2000/svg\" height=\"24px\"viewBox=\"0 0 24 24\"\n",
              "       width=\"24px\">\n",
              "    <path d=\"M0 0h24v24H0V0z\" fill=\"none\"/>\n",
              "    <path d=\"M18.56 5.44l.94 2.06.94-2.06 2.06-.94-2.06-.94-.94-2.06-.94 2.06-2.06.94zm-11 1L8.5 8.5l.94-2.06 2.06-.94-2.06-.94L8.5 2.5l-.94 2.06-2.06.94zm10 10l.94 2.06.94-2.06 2.06-.94-2.06-.94-.94-2.06-.94 2.06-2.06.94z\"/><path d=\"M17.41 7.96l-1.37-1.37c-.4-.4-.92-.59-1.43-.59-.52 0-1.04.2-1.43.59L10.3 9.45l-7.72 7.72c-.78.78-.78 2.05 0 2.83L4 21.41c.39.39.9.59 1.41.59.51 0 1.02-.2 1.41-.59l7.78-7.78 2.81-2.81c.8-.78.8-2.07 0-2.86zM5.41 20L4 18.59l7.72-7.72 1.47 1.35L5.41 20z\"/>\n",
              "  </svg>\n",
              "      </button>\n",
              "      \n",
              "  <style>\n",
              "    .colab-df-container {\n",
              "      display:flex;\n",
              "      flex-wrap:wrap;\n",
              "      gap: 12px;\n",
              "    }\n",
              "\n",
              "    .colab-df-convert {\n",
              "      background-color: #E8F0FE;\n",
              "      border: none;\n",
              "      border-radius: 50%;\n",
              "      cursor: pointer;\n",
              "      display: none;\n",
              "      fill: #1967D2;\n",
              "      height: 32px;\n",
              "      padding: 0 0 0 0;\n",
              "      width: 32px;\n",
              "    }\n",
              "\n",
              "    .colab-df-convert:hover {\n",
              "      background-color: #E2EBFA;\n",
              "      box-shadow: 0px 1px 2px rgba(60, 64, 67, 0.3), 0px 1px 3px 1px rgba(60, 64, 67, 0.15);\n",
              "      fill: #174EA6;\n",
              "    }\n",
              "\n",
              "    [theme=dark] .colab-df-convert {\n",
              "      background-color: #3B4455;\n",
              "      fill: #D2E3FC;\n",
              "    }\n",
              "\n",
              "    [theme=dark] .colab-df-convert:hover {\n",
              "      background-color: #434B5C;\n",
              "      box-shadow: 0px 1px 3px 1px rgba(0, 0, 0, 0.15);\n",
              "      filter: drop-shadow(0px 1px 2px rgba(0, 0, 0, 0.3));\n",
              "      fill: #FFFFFF;\n",
              "    }\n",
              "  </style>\n",
              "\n",
              "      <script>\n",
              "        const buttonEl =\n",
              "          document.querySelector('#df-97f8adbc-26f0-4e63-9f05-dd780bb0852e button.colab-df-convert');\n",
              "        buttonEl.style.display =\n",
              "          google.colab.kernel.accessAllowed ? 'block' : 'none';\n",
              "\n",
              "        async function convertToInteractive(key) {\n",
              "          const element = document.querySelector('#df-97f8adbc-26f0-4e63-9f05-dd780bb0852e');\n",
              "          const dataTable =\n",
              "            await google.colab.kernel.invokeFunction('convertToInteractive',\n",
              "                                                     [key], {});\n",
              "          if (!dataTable) return;\n",
              "\n",
              "          const docLinkHtml = 'Like what you see? Visit the ' +\n",
              "            '<a target=\"_blank\" href=https://colab.research.google.com/notebooks/data_table.ipynb>data table notebook</a>'\n",
              "            + ' to learn more about interactive tables.';\n",
              "          element.innerHTML = '';\n",
              "          dataTable['output_type'] = 'display_data';\n",
              "          await google.colab.output.renderOutput(dataTable, element);\n",
              "          const docLink = document.createElement('div');\n",
              "          docLink.innerHTML = docLinkHtml;\n",
              "          element.appendChild(docLink);\n",
              "        }\n",
              "      </script>\n",
              "    </div>\n",
              "  </div>\n",
              "  "
            ],
            "text/plain": [
              "   dummy_Subaru  dummy_automatic  dummy_mechanical\n",
              "0             1                1                 0\n",
              "1             1                1                 0\n",
              "2             1                1                 0\n",
              "3             1                0                 1\n",
              "4             1                1                 0"
            ]
          },
          "metadata": {},
          "execution_count": 12
        }
      ]
    },
    {
      "cell_type": "markdown",
      "source": [
        "ถ้ามีการทำตัวแปรหุ่น จากตัวแปรเชิงคุณภาพ 2 ตัว พอทำเป็น One hot แล้ว ก็จะมีเลข 1 ในแถวนั้น สองตัว"
      ],
      "metadata": {
        "id": "WbnS87ZBdqUr"
      }
    }
  ]
}